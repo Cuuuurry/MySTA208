{
 "cells": [
  {
   "cell_type": "markdown",
   "metadata": {},
   "source": [
    "# STA 208: Homework 1 (Do not distribute)\n",
    "\n",
    "## Due 4/12/19 midnight \n",
    "\n",
    "__Instructions:__ To make grading easier for the TAs please submit it on canvas in a zip file with either the scanned solutions clearly written or in the jupyter notebook below.  The zip file should include all of your code either in this notebook file, or a separate python file that is imported and ran in this notebook.  We should be able to open this notebook and run everything here by running the cells in sequence.  The written portions can be either done in markdown and TeX in new cells or written clearly by hand and scanned.\n",
    "\n",
    "- Code should be well organized and documented\n",
    "- All math should be clear and make sense sequentially\n",
    "- When in doubt explain what is going on\n",
    "- You will be graded on correctness of your math, code efficiency and succinctness, and conclusions and modelling decisions"
   ]
  },
  {
   "cell_type": "markdown",
   "metadata": {},
   "source": [
    "__Exercise 1__ (20 pts)\n",
    "\n",
    "Consider the binary classification setting where the training data is $x_i \\in \\mathbb R^p, y_i \\in \\{0,1\\}, i=1,\\ldots,n$ and recall the empirical risk (as a function of the predictor $g : \\mathbb R^p \\to \\{0,1\\}$),\n",
    "$$\n",
    "R_n(g) = \\frac 1n \\sum_{i=1}^n \\ell(y_i, g(x_i)),\n",
    "$$\n",
    "and the true risk is \n",
    "$$\n",
    "R(g) = \\mathbb E \\ell(Y,g(X))\n",
    "$$\n",
    "where $X,Y$ are drawn from their joint distribution $f_{X,Y}(x,y)$.\n",
    "\n",
    "1. Suppose that the loss function is the Hamming loss, $\\ell(y,\\hat y) = 1\\{ y \\ne \\hat y\\}$.  What is the predictor that minimizes the True risk?  (Hint: derive an expression for this based on the joint distribution - you can use expressions involving conditional probabilities.)  This predictor is called the Bayes rule.\n",
    "2. Suppose that we know that the Bayes rule can be written in the form, \n",
    "$$\n",
    "h(x) = 1\\{ x_j > 0 \\}, \n",
    "$$\n",
    "for some $j = 1,\\ldots,p$, but we don't know which one.  Now using the empirical risk, what is a reasonable classification algorithm (Hint: you can think of finding a good classifier as a problem of finding $j$).  Describe the fit and predict methods. \n",
    "3. (Challenging) Suppose that I told you that for any fixed $g$ the following probability bound holds (from Hoeffding's inequality)\n",
    "$$\n",
    "\\mathbb P \\left\\{ |R_n(g) - R(g)| > t \\right\\} \\le 2 \\exp \\left( - 2 n t^2 \\right).\n",
    "$$\n",
    "If $p=10$, how many samples would I need to get a classifier $\\hat g$, from the previous question, such that \n",
    "$$\n",
    "\\mathbb P \\left\\{ R(\\hat g) < R(h) + 0.1 \\right\\} \\ge 0.95.\n",
    "$$\n",
    "(Hint: use the union bound)"
   ]
  },
  {
   "cell_type": "markdown",
   "metadata": {},
   "source": [
    "<p  style=\"background-color:rgb(0,185,185)\">\n",
    "    ========================================================================================================================\n",
    "</p>\n",
    "<h3><font color=\"blue\">Answer 1</font></h3>\n",
    "<h4><font color=\"blue\">Answer 1.1</font></h4>\n",
    "<p>\n",
    "    Since we have the true risk:\n",
    "\\begin{equation}\n",
    "      E[R(g)]\n",
    "    = E_{X,Y}[\\ell(Y,g(X))]\n",
    "    = E_{X,Y}[\\mathbf{1}\\{Y\\neq g(X)\\}]\n",
    "    = E_X[E_{Y|X}[\\mathbf{1}\\{Y\\neq g(X)\\}|X]].\n",
    "\\end{equation}\n",
    "    To find $g$ to minimize the true risk $E[R(g)]$, we need to minimize $E_{Y|X}[\\mathbf{1}\\{Y\\neq g(X)|X\\}]$:\n",
    "    \\begin{align*}\n",
    "      E_{Y|X}[\\mathbf{1}\\{Y\\neq g(X)|X\\}]\n",
    "    =& P(Y\\neq g(X)|X)\\\\\n",
    "    =& P(g(X)=0)P(Y=1|X)+P(g(X)=1)P(Y=1|X)\\\\\n",
    "    =& P(g(X)=0)P(Y=1|X)+(1-P(g(X)=0))(1-P(Y=1|X))\n",
    "    \\end{align*}\n",
    "    To minimize $E_{Y|X}[\\mathbf{1}\\{Y\\neq g(X)|X\\}]$, the predictor $\\hat{g}$ satisfies:\n",
    "    \\begin{align*}\n",
    "    \\hat{g}(x)&= \\text{argmin}_{y\\in\\{0,1\\}}\\,[1-Pr(Y=y|X=x)],\\\\\n",
    "    \\end{align*}\n",
    "    i.e. we need:\n",
    "    \\begin{gather} \n",
    "    \\hat{g}(x)= \\left\\{\n",
    "    \\begin{array}{ll}\n",
    "        0,\\, \\text{if}\\,f_{X,Y}(x,0)\\geq f_{X,Y}(x,1),\\\\\n",
    "        1,\\, \\text{if}\\,f_{X,Y}(x,0)< f_{X,Y}(x,1).\\\\\n",
    "    \\end{array} \n",
    "    \\right. \n",
    "    \\end{gather}\n",
    "    Thus, we get the predictor $\\hat{g}$ that minimize the error term.\n",
    "    \\begin{gather} \n",
    "    \\hat{g}(x)= \\left\\{\n",
    "    \\begin{array}{ll}\n",
    "        0,\\, \\text{if}\\,f_{X,Y}(x,0)\\geq \\frac12,\\\\\n",
    "        1,\\, \\text{if}\\,f_{X,Y}(x,0)< \\frac12.\\\\\n",
    "    \\end{array} \n",
    "    \\right. \n",
    "    \\end{gather}\n",
    "<p>\n",
    " \n",
    " \n",
    "<h4><font color=\"blue\">Answer 1.2</font></h4>\n",
    "<p>\n",
    "    Assuming that $\\hat{g}_k(x)=1\\{x_k>0\\}, \\forall k\\in \\{1,2,3,\\cdots, p\\}$, i.e.:\n",
    "    \\begin{gather} \n",
    "    \\hat{g}_k(x)= \\left\\{\n",
    "    \\begin{array}{ll}\n",
    "        0,\\, \\text{if}\\,x_k \\leq 0,\\\\\n",
    "        1,\\, \\text{if}\\,x_k >0.\\\\\n",
    "    \\end{array} \n",
    "    \\right. \n",
    "    \\end{gather}\n",
    "    For $h(x)=1\\{x_j>0\\}$, according to the problem there, we have $R(h)=\n",
    "    \\textstyle\\min\\limits_{g\\in G} R(g)$. To estimate $R(h)$, we focus on $R_n(h)=\\textstyle\\min\\limits_{k\\in \\{1,\\cdots, p\\}} R_n(\\hat{g}_k)$. Since we know that $h\\in \\{\\hat{g}_1,\\hat{g}_2,\\cdots,\\hat{g}_p\\}$. The strategy is that we find the $\\hat{g}_h$ which minimizes $R_n(\\hat{g}_k)$, and then we just let $h=\\hat{g}_h$.\n",
    "<p>\n",
    "\n",
    "\n",
    "\n",
    "<h4><font color=\"blue\">Answer 1.3</font></h4>\n",
    "<p>\n",
    "    Since $R_n(\\hat g)-R_n(h)\\leq 0$.\n",
    "    \\begin{align*}\n",
    "    &R(\\hat g)< R(h)+0.1\\\\\n",
    "    \\Longleftrightarrow& R(\\hat g)- R(h)<0.1\\\\\n",
    "    \\Longleftrightarrow& R(\\hat g)- R_n(\\hat g)+R_n(\\hat g)-R_n(h)+R_n(h)-R(h)<0.1          \\\\        \n",
    "    \\Longleftarrow& R(\\hat g)- R_n(\\hat g)+R_n(h)-R(h)<0.1 \\\\\n",
    "    \\end{align*}\n",
    "    Suggest that controlling $|R_n(\\hat{g})-R(\\hat{g})|\\leq 0.05,$ $ \n",
    "    |R_n(h)-R(h)|\\leq 0.05$ will be sufficient.\n",
    "</p>\n",
    "<p>\n",
    "    Since $g,h\\in \\{\\hat{g}_1,\\hat{g}_2,\\cdots,\\hat{g}_p\\}$, if we control all that \n",
    "    $|R(\\hat {g }_k)- R_n(\\hat {g}_k)|\\leq 0.05,$ $\\forall k \\in \\{1,2,3,\\cdots,p\\},$ we will get$|R_n(\\hat{g})-R(\\hat{g})|\\leq 0.05,$ $|R_n(h)-R(h)|\\leq 0.05$\n",
    "</p>\n",
    "<p>\n",
    "    Therefore, $P(|R_n(\\hat{g}_k)-R(\\hat{g}_k)|\\leq 0.05,\\forall k\\in\\{1,2,\\cdots,p\\})\\geq 0.95$ is sufficient. And we can use $P(|R_n(\\hat{g}_k)-R(\\hat{g}_k)|\\geq 0.05)\\leq 2\\exp (-2n\\times 0.05^2),$ $\\forall k=1,2,3,\\cdots,p$ to construct this union bound.\n",
    "</p>\n",
    "<p>    \n",
    "    Define $A_k=\\{|R_n(\\hat{g}_k)-R(\\hat{g}_k)|\\leq 0.05\\}$, we want to control $P(\\cap_{k=1}^p A_k)\\geq 0.95$. Thus\n",
    "    \\begin{align*}\n",
    "    P(\\cap_{k=1}^p A_k)= & 1-P(\\cup_{k=1}^p A_k^C)\\\\\n",
    "               \\geq & 1-\\sum_{k=1}^p P(A_k^C)\\\\\n",
    "               \\geq & 1-2p\\exp(-2n\\times 0.05^2)\\\\\n",
    "               = & 1-20\\exp(-2n\\times 0.05^2)\\geq 0.95.\n",
    "    \\end{align*}\n",
    "    Therefore, we need $n\\geq 1198.293$, i.e. we need $1199$ samples here to guarantee the accuracy.\n",
    "</p>\n",
    "<p  style=\"background-color:rgb(0,185,185)\">\n",
    "    ========================================================================================================================\n",
    "</p>"
   ]
  },
  {
   "cell_type": "markdown",
   "metadata": {},
   "source": [
    "__Exercise 2__ (20 pts)\n",
    "\n",
    "Consider the regression setting in which $x_i \\in \\mathbb R^p$ and $y_i \\in \\mathbb R$, for $i=1,\\ldots,n$ and $p < n$.\n",
    "\n",
    "1. For a given regressor, let $\\hat y_i$ be prediction given $x_i$, and $\\hat y$ be the vector form.  Show that both linear regression and k-nearest neighbors can be written in the form\n",
    "$$\n",
    "\\hat y = H y,\n",
    "$$\n",
    "where $H$ is dependent on $X$ (the matrix of where each row is $x_i$).  Give a clear expression for $H$.  Assume that the KNN algorithm will use the same point as its own nearest neighbor (this is consistent with what you get if you use the same dataset in fit and predict in sklearn.)\n",
    "2. By modifying the matrix $H$, how can we ensure that a given sample is not used as a k nearest neighbor.  Derive an expression for the leave-one-out cross validated square error based on this.\n",
    "3. For linear regression (with $n < p$), let $X = U D V^\\top$ be the singular value decomposition where $U$ is $n \\times p$, and $V, D$ is $p \\times p$ ($D$ is diagonal). Derive an expression for the OLS coefficients $\\beta = A b$ such that $A$ is $p \\times p$ and depends on $V$ and $D$, and $b$ is a $p$ vector and does not depend on $D$.  Describe a fit method that precomputes these quantities separately, and describe a predict method.\n",
    "4. Consider a regressor that performs OLS using the SVD above, but every instance of D will only use the largest $r$ values on the diagonal.  Call this new $r \\times r$ matrix $D_r$ ($r < p$), and let $U_r, V_r$ be the $n \\times r$ and $r \\times p$ matrices which are these restricted to the top $r$ eigenvectors.  Then the new coefficient vector is the OLS computed as if the design matrix is modified by $X \\gets U_r D_r V_r^\\top$.  Given that you have computed $b$ already, how could you make a method `change_rank` that recomputes $A$ with $D_r$ instead of $D$?  What is its computational complexity (it should not depend on n)?"
   ]
  },
  {
   "cell_type": "markdown",
   "metadata": {},
   "source": [
    "<p  style=\"background-color:rgb(0,185,185)\">\n",
    "    ========================================================================================================================\n",
    "</p>\n",
    "<font color=\"Blue\">\n",
    "<h3>Answer 2</h3>\n",
    "\n",
    "<h4>Answer 2.1</h4>\n",
    "</font>\n",
    "<p>\n",
    "    For the linear regression:\n",
    "    $$\n",
    "    \\hat \\beta = (X^\\top X)^{-1} X^\\top y,\n",
    "    $$\n",
    "    where $X,y$ are $n \\times p$ and $n$ arrays.\n",
    "    $$\n",
    "    (X^\\top X) \\hat \\beta = X^\\top y,\n",
    "    $$\n",
    "    $$H=X(X^\\top X)^{-1} X^\\top.$$\n",
    "    For the kNN algorithm, \n",
    "    Given a metric (d), the K-nearest neighbors of $x$ in $x_1,\\ldots,x_n$ is $x_{j_1},\\ldots,x_{j_K}$ such that\n",
    "$$\n",
    "d(x,x_{j_1}) \\le d(x,x_{j_2}) \\le \\ldots\n",
    "$$\n",
    "   Then the kNN-estimator:\n",
    "    \\begin{equation*}\n",
    "    \\hat{Y}_{knn}=\\frac{Y_{j_1}+\\cdots+Y_{j_k}}{k}.\n",
    "    \\end{equation*}\n",
    "</p>\n",
    "\n",
    "\n",
    "<font color=\"Blue\"><h4>Answer 2.2</h4></font>\n",
    "<p>\n",
    "    Set the distance $d(x,x)= \\infty,\\forall x\\in\\{x_1,\\cdots,x_n\\}$. Then we choose $x_i$'s k nearest neighbors exclude itself. Denote their indices are $\\{i_1,i_2,\\cdots, i_k\\}$, where $i\\neq i_1,\\cdots,i_k$. The estimator will be:\n",
    "    $\\hat Y=\\frac1k \\sum_{j=1}^k Y_{i_j}$.\n",
    "    Then the squared error of a single observation x is:\n",
    "    \\begin{equation}\n",
    "    \\ell(Y,\\hat Y)=\\ell( Y, \\hat Y )=(Y-\\hat Y)^2.\n",
    "    \\end{equation}\n",
    "    The leave one out cross validated error will be:\n",
    "    \\begin{equation}\n",
    "    LOO(n)=\\frac1n\\sum_{i=1 }^n(Y_i-\\hat Y_i)^2 .\n",
    "    \\end{equation}\n",
    "</p>\n",
    "\n",
    "\n",
    "<font color=\"Blue\"><h4>Answer 2.3</h4></font>\n",
    "<p>\n",
    "    Since $U$ and $V$ satisfy the fact: $A^\\top A=I_n$, and $D$ is a diagonal matrix:\n",
    "    \\begin{align}\n",
    "        X^\\top X \n",
    "    &=V D^\\top U^\\top U D V^\\top\\\\\n",
    "    &=V D^2 V^\\top. \\\\\n",
    "    \\end{align}\n",
    "    Because in OLS, we have $\\hat\\beta = (X^\\top X)^{-1}X y $. Now, let \n",
    "    $A=V D^{-1}$ and $b=U^\\top  y$ we have:\n",
    "    \\begin{align}\n",
    "        \\hat\\beta\n",
    "    &=(X^\\top X)^{-1}X y\\\\\n",
    "    &=V D^{-2} V^\\top V D^\\top U^\\top  y\\\\\n",
    "    &=V D^{-2} (V^\\top V) D U^\\top  y\\\\\n",
    "    &=(V D^{-1}) (U^\\top  y)\\\\\n",
    "    &=Ab.\n",
    "    \\end{align}\n",
    "    As for the prediction, $\\hat y= X\\hat \\beta$.\n",
    "</p>\n",
    "\n",
    "\n",
    "<font color=\"Blue\"><h4>Answer 2.4</h4></font>\n",
    "<p>\n",
    "    Assuming that $U=(U_1,U_2,\\cdots, U_p), \\, D=\n",
    "    \\begin{pmatrix}\n",
    "    d_1&  0  &\\cdots&0\\\\\n",
    "    0  &d_2  &\\cdots&0\\\\\n",
    "    \\vdots&\\vdots&\\ddots&\\vdots\\\\\n",
    "    0&0&\\cdots&d_p\\\\\n",
    "    \\end{pmatrix}\n",
    "    ,\\, V=\\begin{pmatrix}\n",
    "    V_1^\\top\\\\\n",
    "    V_2^\\top\\\\\n",
    "    \\vdots\\\\\n",
    "    V_p^\\top\\\\\n",
    "    \\end{pmatrix}$, where $d_1\\geq d_2\\geq d_3\\geq \\cdots \\geq d_r$. \n",
    "    The SVD can be writen as $$\n",
    "    X=U D V^\\top={\\textstyle\\sum\\limits_{k=1}^p} d_k \\,U_k V_k^\\top.\n",
    "    $$\n",
    "    $$\n",
    "    \\hat\\beta=(V D^{-1}) (U^\\top  y)= A\\,b.\n",
    "    $$\n",
    "    Assuming $A=(A_1,A_2,\\cdots, A_p), \\, b=\\begin{pmatrix}\n",
    "    b_1\\\\\n",
    "    b_2\\\\\n",
    "    \\vdots\\\\\n",
    "    b_p\\\\\n",
    "    \\end{pmatrix}$.\n",
    "    We can also have:$$\n",
    "    \\hat\\beta={\\textstyle\\sum\\limits_{k=1}^p} b_k \\,A_k.\n",
    "    $$\n",
    "    The computational complexity to calculate A from V and D is $\\mathcal{O}(p^2)$, because $A=V D^{-1}$,where $V$'s shape is $ p\\times p $, and $D_r^{-1}$ is a $p\\times p$ diagnal matrix.\n",
    "</p>\n",
    "<p>\n",
    "    By choosing the top r eigenvectors, i.e the index $j \\in\\{1,2,3,\\cdots,r\\}$, we can get the $X_r$:\n",
    "    \\begin{align*}\n",
    "    X_r&={\\textstyle\\sum\\limits_{j=1}^r} d_{j} \\,U_{j} V_{j}^\\top.\n",
    "    \\end{align*}\n",
    "    According to the previous problem, $A_r=V_r D_r^{-1}$ and $b_r=U_r^\\top  y$.\n",
    "    \\begin{align*}\n",
    "    \\hat\\beta_r&={\\textstyle\\sum\\limits_{j=1}^r}   b_k \\,A_k.\n",
    "    \\end{align*}\n",
    "    The computational complexity is $\\mathcal{O}(pr)$, because $A_r=V_r D_r^{-1}$,where $V_r$'s shape is $ p\\times r $, and $D_r^{-1}$ is a $r\\times r$ diagnal matrix.\n",
    "</p>\n",
    "<p  style=\"background-color:rgb(0,185,185)\">\n",
    "    ========================================================================================================================\n",
    "</p>"
   ]
  },
  {
   "cell_type": "markdown",
   "metadata": {},
   "source": [
    "__Exercise 3__ (30 pts)\n",
    "\n",
    "We call the method that zeros out all but $r$ singular values in OLS, singular value regression.  Implement the singular value regressor as a sklearn style class below.  Test it by simulating the training and test data from the `gen_LR_data` function below and calculate the average square error on the test set.  Do this for each choice of `r` in the fit function."
   ]
  },
  {
   "cell_type": "code",
   "execution_count": 1,
   "metadata": {},
   "outputs": [],
   "source": [
    "import numpy as np\n",
    "from scipy.linalg import svd\n",
    "import matplotlib.pyplot as plt\n",
    "from sklearn import model_selection, linear_model, neighbors, preprocessing, metrics\n",
    "import matplotlib.pyplot as plt\n",
    "import seaborn as sns"
   ]
  },
  {
   "cell_type": "code",
   "execution_count": 2,
   "metadata": {},
   "outputs": [],
   "source": [
    "class SingularValueRegressor:\n",
    "    \"\"\"\n",
    "    : A regression object that uses the SVD to fit and predict\n",
    "    : Init: specify rank r\n",
    "    : .fit: solve the SVD of X and precompute beta\n",
    "    : .predict: Return y hat for X_test\n",
    "    \"\"\"\n",
    "    \n",
    "    def __init__(self,r):\n",
    "        \"\"\"\n",
    "        : Store the rank\n",
    "        \"\"\"\n",
    "        self.r = r\n",
    "        \n",
    "    def fit(self,X,y):\n",
    "        \"\"\"\n",
    "        : Computes and stores the SVD (use scipy.linalg.svd)\n",
    "        : Computes beta for rank r singular value regression\n",
    "        \"\"\"\n",
    "        n,p=X.shape\n",
    "        #---1.Compute the SVD  \n",
    "        u,s,vh = svd(X)\n",
    "        #---2.Store the SVD \n",
    "        self.u = u\n",
    "        self.s = s\n",
    "        self.vh = vh\n",
    "        #---3.Store A and b, which are convenient for later computations.\n",
    "        self.y=y\n",
    "        self.A = vh.T @ np.diag(1/s) \n",
    "        self.b = u.T @ y\n",
    "        Ar=self.A[:,:self.r]\n",
    "        br=self.b[:self.r]\n",
    "        self.beta =Ar @ br\n",
    "        return self.beta\n",
    "    \n",
    "    def predict(self,X_test):\n",
    "        \"\"\"\n",
    "        : Outputs the predicted y given the predictors X_test\n",
    "        \"\"\"\n",
    "        self.y_pred= X_test @ self.beta\n",
    "        return self.y_pred\n",
    "        \n",
    "    def change_rank(self,r):\n",
    "        \"\"\"\n",
    "        : Assumes that the SVD has been computed and uses it to change the rank; after\n",
    "        : running the new regressor object should be as if we fit with the new rank r\n",
    "        \"\"\"\n",
    "        #---1.Store a new rank\n",
    "        self.r=r\n",
    "        #---2.Compute new A,b.\n",
    "        Ar=self.A[:,:self.r] #Cut Ar out from A\n",
    "        br=self.b[:self.r] #Cut br out from B\n",
    "        self.beta = Ar @ br\n",
    "        return self.beta #Get a return value to check how it works.\n",
    "        "
   ]
  },
  {
   "cell_type": "code",
   "execution_count": 3,
   "metadata": {},
   "outputs": [],
   "source": [
    "def gen_LR_data(r = 10, p = 20, n = 100):\n",
    "    \"\"\"\n",
    "    : generate data from an approx low rank regression model\n",
    "    \"\"\"\n",
    "    alpha = np.random.chisquare(1,size = (p,r)) #X coefficients\n",
    "    Z = np.random.normal(size=(n,r)) #X covariates\n",
    "    beta = np.random.normal(size = r) #reg covs\n",
    "    mu = Z @ beta #hidden mean\n",
    "    Xmean = Z @ alpha.T #random transformation of Z\n",
    "    X = Xmean + np.random.normal(0,.5,size=(n,p)) #add noise - not exactly low rank\n",
    "    X_test = Xmean + np.random.normal(0,.5,size=(n,p))\n",
    "    y = mu + np.random.normal(0,1,size=(n))\n",
    "    y_test = mu + np.random.normal(0,1,size=(n))\n",
    "    return (X,y,X_test,y_test)"
   ]
  },
  {
   "cell_type": "markdown",
   "metadata": {},
   "source": [
    "<p>If we take the intercept into consideration, the difference in mse will be less than 0.01, i.e. less than $1\\%$ of the mse. Therefore, there is no need to add a column vector $\\mathbb{1}$ to the design matrix in these problem. </p>"
   ]
  },
  {
   "cell_type": "code",
   "execution_count": 4,
   "metadata": {},
   "outputs": [],
   "source": [
    "np.random.seed(5)#Use the 5th random sequence\n",
    "X,y,X_test,y_test = gen_LR_data()"
   ]
  },
  {
   "cell_type": "code",
   "execution_count": 6,
   "metadata": {},
   "outputs": [],
   "source": [
    "#Store the mse.\n",
    "n,p=X.shape\n",
    "mse=[]\n",
    "y_pred={}\n",
    "svr=SingularValueRegressor(1)\n",
    "svr.fit(X,y)\n",
    "for i in range(p):\n",
    "    svr.change_rank(i+1) #change the rank into i\n",
    "    y_pred[i+1]=svr.predict(X_test)\n",
    "    mse.append(metrics.mean_squared_error(y_test,svr.predict(X_test)))"
   ]
  },
  {
   "cell_type": "code",
   "execution_count": 8,
   "metadata": {},
   "outputs": [
    {
     "data": {
      "text/plain": [
       "<matplotlib.legend.Legend at 0x215f5d9bda0>"
      ]
     },
     "execution_count": 8,
     "metadata": {},
     "output_type": "execute_result"
    },
    {
     "data": {
      "image/png": "[encoded data removed]",
      "text/plain": [
       "<Figure size 432x288 with 1 Axes>"
      ]
     },
     "metadata": {
      "needs_background": "light"
     },
     "output_type": "display_data"
    }
   ],
   "source": [
    "plt.plot(mse,label='SingularValueRegressor')\n",
    "plt.xlabel('Rank')\n",
    "plt.ylabel('MSE')\n",
    "plt.legend()"
   ]
  },
  {
   "cell_type": "markdown",
   "metadata": {},
   "source": [
    "__Exercise 4__ (30 pts)\n",
    "\n",
    "The dataset in the hw1 directory has a Y variable, 7 predictor variables (X1 - X7).  Using sklearn and the class that you constructed above, compare ridge regression, OLS, kNN, and SVRegression.  Compare and tune the methods using appropriate testing procedures.  Comment on the tuning of each parameter in ridge, kNN, and SVRegression in markdown.  Be sure to standardize the X variables first and decide how to deal with NAs.  "
   ]
  },
  {
   "cell_type": "code",
   "execution_count": 11,
   "metadata": {},
   "outputs": [],
   "source": [
    "import pandas as pd\n",
    "import numpy as np\n",
    "import statsmodels.api as sm\n",
    "import matplotlib.pyplot as plt\n",
    "from scipy.linalg import svd\n",
    "from sklearn import model_selection, linear_model, neighbors, preprocessing, metrics\n",
    "from sklearn.model_selection import LeaveOneOut\n",
    "import matplotlib.pyplot as plt\n",
    "import seaborn as sns"
   ]
  },
  {
   "cell_type": "code",
   "execution_count": 12,
   "metadata": {},
   "outputs": [
    {
     "data": {
      "text/html": [
       "<div>\n",
       "<style scoped>\n",
       "    .dataframe tbody tr th:only-of-type {\n",
       "        vertical-align: middle;\n",
       "    }\n",
       "\n",
       "    .dataframe tbody tr th {\n",
       "        vertical-align: top;\n",
       "    }\n",
       "\n",
       "    .dataframe thead th {\n",
       "        text-align: right;\n",
       "    }\n",
       "</style>\n",
       "<table border=\"1\" class=\"dataframe\">\n",
       "  <thead>\n",
       "    <tr style=\"text-align: right;\">\n",
       "      <th></th>\n",
       "      <th>Y</th>\n",
       "      <th>X1</th>\n",
       "      <th>X2</th>\n",
       "      <th>X3</th>\n",
       "      <th>X4</th>\n",
       "      <th>X5</th>\n",
       "      <th>X6</th>\n",
       "      <th>X7</th>\n",
       "    </tr>\n",
       "  </thead>\n",
       "  <tbody>\n",
       "    <tr>\n",
       "      <th>0</th>\n",
       "      <td>18.0</td>\n",
       "      <td>8.0</td>\n",
       "      <td>307.0</td>\n",
       "      <td>130.0</td>\n",
       "      <td>3504.0</td>\n",
       "      <td>12.0</td>\n",
       "      <td>70.0</td>\n",
       "      <td>1.0</td>\n",
       "    </tr>\n",
       "    <tr>\n",
       "      <th>1</th>\n",
       "      <td>15.0</td>\n",
       "      <td>8.0</td>\n",
       "      <td>350.0</td>\n",
       "      <td>165.0</td>\n",
       "      <td>3693.0</td>\n",
       "      <td>11.5</td>\n",
       "      <td>70.0</td>\n",
       "      <td>1.0</td>\n",
       "    </tr>\n",
       "    <tr>\n",
       "      <th>2</th>\n",
       "      <td>18.0</td>\n",
       "      <td>8.0</td>\n",
       "      <td>318.0</td>\n",
       "      <td>150.0</td>\n",
       "      <td>3436.0</td>\n",
       "      <td>11.0</td>\n",
       "      <td>70.0</td>\n",
       "      <td>1.0</td>\n",
       "    </tr>\n",
       "    <tr>\n",
       "      <th>3</th>\n",
       "      <td>16.0</td>\n",
       "      <td>8.0</td>\n",
       "      <td>304.0</td>\n",
       "      <td>150.0</td>\n",
       "      <td>3433.0</td>\n",
       "      <td>12.0</td>\n",
       "      <td>70.0</td>\n",
       "      <td>1.0</td>\n",
       "    </tr>\n",
       "    <tr>\n",
       "      <th>4</th>\n",
       "      <td>17.0</td>\n",
       "      <td>8.0</td>\n",
       "      <td>302.0</td>\n",
       "      <td>140.0</td>\n",
       "      <td>3449.0</td>\n",
       "      <td>10.5</td>\n",
       "      <td>70.0</td>\n",
       "      <td>1.0</td>\n",
       "    </tr>\n",
       "  </tbody>\n",
       "</table>\n",
       "</div>"
      ],
      "text/plain": [
       "      Y   X1     X2     X3      X4    X5    X6   X7\n",
       "0  18.0  8.0  307.0  130.0  3504.0  12.0  70.0  1.0\n",
       "1  15.0  8.0  350.0  165.0  3693.0  11.5  70.0  1.0\n",
       "2  18.0  8.0  318.0  150.0  3436.0  11.0  70.0  1.0\n",
       "3  16.0  8.0  304.0  150.0  3433.0  12.0  70.0  1.0\n",
       "4  17.0  8.0  302.0  140.0  3449.0  10.5  70.0  1.0"
      ]
     },
     "execution_count": 12,
     "metadata": {},
     "output_type": "execute_result"
    }
   ],
   "source": [
    "data_mat = pd.read_csv('hw1_data.csv')\n",
    "data_mat.head()"
   ]
  },
  {
   "cell_type": "markdown",
   "metadata": {},
   "source": [
    "# 1.Dealing with missing values"
   ]
  },
  {
   "cell_type": "code",
   "execution_count": 13,
   "metadata": {},
   "outputs": [
    {
     "data": {
      "text/html": [
       "<div>\n",
       "<style scoped>\n",
       "    .dataframe tbody tr th:only-of-type {\n",
       "        vertical-align: middle;\n",
       "    }\n",
       "\n",
       "    .dataframe tbody tr th {\n",
       "        vertical-align: top;\n",
       "    }\n",
       "\n",
       "    .dataframe thead th {\n",
       "        text-align: right;\n",
       "    }\n",
       "</style>\n",
       "<table border=\"1\" class=\"dataframe\">\n",
       "  <thead>\n",
       "    <tr style=\"text-align: right;\">\n",
       "      <th></th>\n",
       "      <th>Y</th>\n",
       "      <th>X1</th>\n",
       "      <th>X2</th>\n",
       "      <th>X3</th>\n",
       "      <th>X4</th>\n",
       "      <th>X5</th>\n",
       "      <th>X6</th>\n",
       "      <th>X7</th>\n",
       "    </tr>\n",
       "  </thead>\n",
       "  <tbody>\n",
       "    <tr>\n",
       "      <th>32</th>\n",
       "      <td>25.0</td>\n",
       "      <td>4.0</td>\n",
       "      <td>98.0</td>\n",
       "      <td>NaN</td>\n",
       "      <td>2046.0</td>\n",
       "      <td>19.0</td>\n",
       "      <td>71.0</td>\n",
       "      <td>1.0</td>\n",
       "    </tr>\n",
       "    <tr>\n",
       "      <th>126</th>\n",
       "      <td>21.0</td>\n",
       "      <td>6.0</td>\n",
       "      <td>200.0</td>\n",
       "      <td>NaN</td>\n",
       "      <td>2875.0</td>\n",
       "      <td>17.0</td>\n",
       "      <td>74.0</td>\n",
       "      <td>1.0</td>\n",
       "    </tr>\n",
       "    <tr>\n",
       "      <th>330</th>\n",
       "      <td>40.9</td>\n",
       "      <td>4.0</td>\n",
       "      <td>85.0</td>\n",
       "      <td>NaN</td>\n",
       "      <td>1835.0</td>\n",
       "      <td>17.3</td>\n",
       "      <td>80.0</td>\n",
       "      <td>2.0</td>\n",
       "    </tr>\n",
       "    <tr>\n",
       "      <th>336</th>\n",
       "      <td>23.6</td>\n",
       "      <td>4.0</td>\n",
       "      <td>140.0</td>\n",
       "      <td>NaN</td>\n",
       "      <td>2905.0</td>\n",
       "      <td>14.3</td>\n",
       "      <td>80.0</td>\n",
       "      <td>1.0</td>\n",
       "    </tr>\n",
       "    <tr>\n",
       "      <th>354</th>\n",
       "      <td>34.5</td>\n",
       "      <td>4.0</td>\n",
       "      <td>100.0</td>\n",
       "      <td>NaN</td>\n",
       "      <td>2320.0</td>\n",
       "      <td>15.8</td>\n",
       "      <td>81.0</td>\n",
       "      <td>2.0</td>\n",
       "    </tr>\n",
       "    <tr>\n",
       "      <th>374</th>\n",
       "      <td>23.0</td>\n",
       "      <td>4.0</td>\n",
       "      <td>151.0</td>\n",
       "      <td>NaN</td>\n",
       "      <td>3035.0</td>\n",
       "      <td>20.5</td>\n",
       "      <td>82.0</td>\n",
       "      <td>1.0</td>\n",
       "    </tr>\n",
       "  </tbody>\n",
       "</table>\n",
       "</div>"
      ],
      "text/plain": [
       "        Y   X1     X2  X3      X4    X5    X6   X7\n",
       "32   25.0  4.0   98.0 NaN  2046.0  19.0  71.0  1.0\n",
       "126  21.0  6.0  200.0 NaN  2875.0  17.0  74.0  1.0\n",
       "330  40.9  4.0   85.0 NaN  1835.0  17.3  80.0  2.0\n",
       "336  23.6  4.0  140.0 NaN  2905.0  14.3  80.0  1.0\n",
       "354  34.5  4.0  100.0 NaN  2320.0  15.8  81.0  2.0\n",
       "374  23.0  4.0  151.0 NaN  3035.0  20.5  82.0  1.0"
      ]
     },
     "execution_count": 13,
     "metadata": {},
     "output_type": "execute_result"
    }
   ],
   "source": [
    "#locate the missing values\n",
    "data_mat[data_mat.isnull().values==True] "
   ]
  },
  {
   "cell_type": "code",
   "execution_count": 14,
   "metadata": {},
   "outputs": [],
   "source": [
    "# fill the data with mean\n",
    "dm=data_mat.fillna(data_mat.mean())"
   ]
  },
  {
   "cell_type": "code",
   "execution_count": 15,
   "metadata": {},
   "outputs": [],
   "source": [
    "#get the design matrix and \n",
    "y=np.array(data_mat.Y)\n",
    "X=np.array(dm)[:,1:]"
   ]
  },
  {
   "cell_type": "code",
   "execution_count": 22,
   "metadata": {},
   "outputs": [],
   "source": [
    "#Scaling X ---standardize X\n",
    "from sklearn import preprocessing as ppc\n",
    "x=ppc.scale(X)"
   ]
  },
  {
   "cell_type": "markdown",
   "metadata": {},
   "source": [
    "# 2. Risk Class (Including two method: 1.Empirical;2.Leave one out.)"
   ]
  },
  {
   "cell_type": "code",
   "execution_count": 16,
   "metadata": {},
   "outputs": [],
   "source": [
    "class risk:\n",
    "    def __init__(self,mod):\n",
    "        \"\"\"\n",
    "        ---Preliminary: choosing a model from sklearn. \n",
    "        \n",
    "        ---Attribute:\n",
    "            mod:A Regression Model. \n",
    "                ---The model should have:\n",
    "                   1. a method \"fit\" \n",
    "                   2. a method \"predict\": return a fitted value.\n",
    "        \"\"\"\n",
    "        self.mod = mod\n",
    "        \n",
    "    def loo(self,X,y):\n",
    "        \"\"\"\n",
    "        ---Goal: To get the leave-one-out lost.\n",
    "        \n",
    "        ---Preliminary: from sklearn.modele_selection import LeaveOneOut \n",
    "        \n",
    "        ---Input: Design matrix X, Response y.\n",
    "        ---Output: Mean of the leave-one-out loss.\n",
    "        \"\"\"\n",
    "        loo = LeaveOneOut()\n",
    "        loo_sq_err=[]\n",
    "        for train_index, test_index in loo.split(X):\n",
    "            X_train, X_test = X[train_index], X[test_index]\n",
    "            y_train, y_test = y[train_index], y[test_index]\n",
    "            self.mod.fit(X_train,y_train)\n",
    "            y_hat = self.mod.predict(X_test)\n",
    "            loss = np.sum((y_hat-y_test)**2)\n",
    "            loo_sq_err.append(loss)\n",
    "        return np.mean(loo_sq_err)\n",
    "        \n",
    "    def emp(self,X,y):\n",
    "        \"\"\"\n",
    "        ---Goal: To calculate the empirical risk for square error loss.\n",
    "        \n",
    "        ---Input: Design matrix X, Response y.\n",
    "        ---Output: Mean of the square error.\n",
    "        \"\"\"\n",
    "        self.mod.fit(X,y)\n",
    "        y_hat = self.mod.predict(X)\n",
    "        return np.mean((y_hat-y)**2)"
   ]
  },
  {
   "cell_type": "markdown",
   "metadata": {},
   "source": [
    "# 3. OLS"
   ]
  },
  {
   "cell_type": "code",
   "execution_count": 24,
   "metadata": {},
   "outputs": [],
   "source": [
    "#Consider intercept in this situation\n",
    "x_ols=np.hstack((np.ones((398,1)),x))"
   ]
  },
  {
   "cell_type": "code",
   "execution_count": 25,
   "metadata": {},
   "outputs": [
    {
     "name": "stdout",
     "output_type": "stream",
     "text": [
      "Empirical Risk is 10.913542248838684\n",
      "Leave One Out Risk is 11.439466078111165\n"
     ]
    }
   ],
   "source": [
    "#OLS\n",
    "OLS=linear_model.LinearRegression()\n",
    "OLS.fit(x_ols,y)\n",
    "risk_OLS=risk(OLS)\n",
    "print(\"Empirical Risk is \" + str(risk_OLS.emp(x_ols,y)))\n",
    "print(\"Leave One Out Risk is \" + str(risk_OLS.loo(x_ols,y)))"
   ]
  },
  {
   "cell_type": "markdown",
   "metadata": {},
   "source": [
    "<p>Since for kNN leave one out risk is much better, we use Leave one out to compare all of the risks in each model.</p>"
   ]
  },
  {
   "cell_type": "code",
   "execution_count": 60,
   "metadata": {},
   "outputs": [
    {
     "data": {
      "text/plain": [
       "<matplotlib.legend.Legend at 0x215f8ac8358>"
      ]
     },
     "execution_count": 60,
     "metadata": {},
     "output_type": "execute_result"
    },
    {
     "data": {
      "image/png": "[encoded data removed]",
      "text/plain": [
       "<Figure size 432x288 with 1 Axes>"
      ]
     },
     "metadata": {
      "needs_background": "light"
     },
     "output_type": "display_data"
    }
   ],
   "source": [
    "plt.hlines(risk_OLS.loo(x_ols,y),0,20,label=\"Leave One Out Risk\")\n",
    "plt.ylabel('Risk')\n",
    "plt.legend()"
   ]
  },
  {
   "cell_type": "markdown",
   "metadata": {},
   "source": [
    "# 4. Ridge"
   ]
  },
  {
   "cell_type": "code",
   "execution_count": 32,
   "metadata": {},
   "outputs": [],
   "source": [
    "#store leave one out risk with different Alpha.\n",
    "ridges_loo=[]\n",
    "for k in np.arange(0,5.1,.1):\n",
    "    Ridge=linear_model.Ridge(alpha=k)\n",
    "    risk_Ridge=risk(Ridge)\n",
    "    ridges_loo.append(risk_Ridge.loo(x,y))"
   ]
  },
  {
   "cell_type": "code",
   "execution_count": 37,
   "metadata": {},
   "outputs": [
    {
     "data": {
      "text/plain": [
       "<matplotlib.legend.Legend at 0x215f766c860>"
      ]
     },
     "execution_count": 37,
     "metadata": {},
     "output_type": "execute_result"
    },
    {
     "data": {
      "image/png": "[encoded data removed]",
      "text/plain": [
       "<Figure size 432x288 with 1 Axes>"
      ]
     },
     "metadata": {
      "needs_background": "light"
     },
     "output_type": "display_data"
    }
   ],
   "source": [
    "plt.plot(np.arange(0,5.1,0.1),ridges_loo,label=\"Leave One Out Risk\")\n",
    "plt.xlabel('Alpha (Ridge)')\n",
    "plt.ylabel('Risk')\n",
    "plt.legend()"
   ]
  },
  {
   "cell_type": "markdown",
   "metadata": {},
   "source": [
    "# 5. kNN"
   ]
  },
  {
   "cell_type": "code",
   "execution_count": 41,
   "metadata": {},
   "outputs": [],
   "source": [
    "#store the empirical and leave one out risk with different k in 2 lists.\n",
    "knns_emp=[]\n",
    "knns_loo=[]\n",
    "for k in np.arange(1,16):\n",
    "    knn = neighbors.KNeighborsRegressor(n_neighbors=k)\n",
    "    risk_knn=risk(knn)\n",
    "    knns_emp.append(risk_knn.emp(x,y))\n",
    "    knns_loo.append(risk_knn.loo(x,y))"
   ]
  },
  {
   "cell_type": "markdown",
   "metadata": {},
   "source": [
    "<p>\n",
    "    The Reason we do not choose empirical risk mainly because when $k=1$, the fitted value is itself. And since k is not large enough, it is impossible to ignore the reduce of risk caused by including itself in the prediction. See the following graph:\n",
    "\n",
    "</p>"
   ]
  },
  {
   "cell_type": "code",
   "execution_count": 42,
   "metadata": {},
   "outputs": [
    {
     "data": {
      "text/plain": [
       "<matplotlib.legend.Legend at 0x215f78f5780>"
      ]
     },
     "execution_count": 42,
     "metadata": {},
     "output_type": "execute_result"
    },
    {
     "data": {
      "image/png": "[encoded data removed]",
      "text/plain": [
       "<Figure size 432x288 with 1 Axes>"
      ]
     },
     "metadata": {
      "needs_background": "light"
     },
     "output_type": "display_data"
    }
   ],
   "source": [
    "plt.plot(np.arange(1,16),knns_emp,label=\"Empirical Risk\")\n",
    "plt.xlabel('k (kNN)')\n",
    "plt.ylabel('Risk')\n",
    "plt.legend()"
   ]
  },
  {
   "cell_type": "markdown",
   "metadata": {},
   "source": [
    "<p>Therefore, we choose Leave one out risk.</p>"
   ]
  },
  {
   "cell_type": "code",
   "execution_count": 43,
   "metadata": {},
   "outputs": [
    {
     "data": {
      "text/plain": [
       "<matplotlib.legend.Legend at 0x215f8933400>"
      ]
     },
     "execution_count": 43,
     "metadata": {},
     "output_type": "execute_result"
    },
    {
     "data": {
      "image/png": "[encoded data removed]",
      "text/plain": [
       "<Figure size 432x288 with 1 Axes>"
      ]
     },
     "metadata": {
      "needs_background": "light"
     },
     "output_type": "display_data"
    }
   ],
   "source": [
    "plt.plot(np.arange(1,16),knns_loo,label=\"Leave One Out Risk\")\n",
    "plt.xlabel('k (kNN)')\n",
    "plt.ylabel('Risk')\n",
    "plt.legend()"
   ]
  },
  {
   "cell_type": "markdown",
   "metadata": {},
   "source": [
    "# 6. SVR"
   ]
  },
  {
   "cell_type": "code",
   "execution_count": 63,
   "metadata": {},
   "outputs": [],
   "source": [
    "#In this situation, we need to use \"x_ols\"---the design matrix which is scaled and with intercept column.\n",
    "#store leave one out risk with different rank r.\n",
    "svrs_loo=[]\n",
    "svr = SingularValueRegressor(1)\n",
    "svr.fit(x_ols,y)\n",
    "for k in np.arange(1,9):\n",
    "    svr.change_rank(k)\n",
    "    risk_svr=risk(svr)\n",
    "    svrs_loo.append(risk_svr.loo(x_ols,y))"
   ]
  },
  {
   "cell_type": "code",
   "execution_count": 64,
   "metadata": {},
   "outputs": [
    {
     "data": {
      "text/plain": [
       "[574.222809215137,\n",
       " 18.792645552728228,\n",
       " 17.443604996183947,\n",
       " 13.508588882259103,\n",
       " 13.155617558614754,\n",
       " 12.735924998241593,\n",
       " 11.758910213200302,\n",
       " 11.43946607811117]"
      ]
     },
     "execution_count": 64,
     "metadata": {},
     "output_type": "execute_result"
    }
   ],
   "source": [
    "svrs_loo"
   ]
  },
  {
   "cell_type": "markdown",
   "metadata": {},
   "source": [
    "<p>\n",
    "    The first one is huge. This is because the intercept's effect.\n",
    "</p>"
   ]
  },
  {
   "cell_type": "code",
   "execution_count": 65,
   "metadata": {},
   "outputs": [
    {
     "data": {
      "text/plain": [
       "<matplotlib.legend.Legend at 0x215f91a1f98>"
      ]
     },
     "execution_count": 65,
     "metadata": {},
     "output_type": "execute_result"
    },
    {
     "data": {
      "image/png": "[encoded data removed]",
      "text/plain": [
       "<Figure size 432x288 with 1 Axes>"
      ]
     },
     "metadata": {
      "needs_background": "light"
     },
     "output_type": "display_data"
    }
   ],
   "source": [
    "plt.plot(np.arange(1,9),svrs_loo,label=\"Leave One Out Risk\")\n",
    "plt.xlabel('Rank (SVR)')\n",
    "plt.ylabel('Risk')\n",
    "plt.ylim(11,19) #focus on the later 6 points.\n",
    "plt.legend()"
   ]
  },
  {
   "cell_type": "markdown",
   "metadata": {},
   "source": [
    "# 7. Comparison"
   ]
  },
  {
   "cell_type": "code",
   "execution_count": 66,
   "metadata": {},
   "outputs": [
    {
     "data": {
      "text/plain": [
       "<matplotlib.legend.Legend at 0x215f9015978>"
      ]
     },
     "execution_count": 66,
     "metadata": {},
     "output_type": "execute_result"
    },
    {
     "data": {
      "image/png": "[encoded data removed]",
      "text/plain": [
       "<Figure size 432x288 with 1 Axes>"
      ]
     },
     "metadata": {
      "needs_background": "light"
     },
     "output_type": "display_data"
    }
   ],
   "source": [
    "plt.hlines(risk_OLS.loo(x_ols,y),0,20,label=\"OLS\")\n",
    "plt.plot(np.arange(0,5.1,0.1),ridges_loo,label=\"Ridge\")\n",
    "plt.plot(np.arange(1,16),knns_loo,label=\"kNN\")\n",
    "plt.plot(np.arange(1,9),svrs_loo,label=\"SVR\")\n",
    "plt.xlabel('Parameter')\n",
    "plt.ylabel('Risk')\n",
    "plt.ylim(8,19) #focus on the later 6 points.\n",
    "plt.legend()"
   ]
  },
  {
   "cell_type": "markdown",
   "metadata": {},
   "source": [
    "<h2>\n",
    "    The graph suggests that:\n",
    "</h2>\n",
    "<ul>\n",
    "    <li>No matter how much we tune the parameter, Ridge always has no obvious difference with OLS. </li>\n",
    "    <li>kNN model has the least \"leave one out cross validated squared error\". When we tune the parameter to 7, it has the least risk.</li>\n",
    "    <li>SVR has the largest error. No matter how many ranks we choose, the risks are always no less than the OLS. When we choose them all, it is the OLS model.</li>\n",
    "</ul>\n"
   ]
  }
 ],
 "metadata": {
  "kernelspec": {
   "display_name": "Python 3",
   "language": "python",
   "name": "python3"
  },
  "language_info": {
   "codemirror_mode": {
    "name": "ipython",
    "version": 3
   },
   "file_extension": ".py",
   "mimetype": "text/x-python",
   "name": "python",
   "nbconvert_exporter": "python",
   "pygments_lexer": "ipython3",
   "version": "3.7.1"
  }
 },
 "nbformat": 4,
 "nbformat_minor": 2
}
