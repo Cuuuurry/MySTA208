{
 "cells": [
  {
   "cell_type": "markdown",
   "metadata": {},
   "source": [
    "# STA 208: Homework 2 (Do not distribute)\n",
    "\n",
    "## Due 4/24/19 at midnight\n",
    "\n",
    "__Instructions:__ To make grading easier for the TAs please submit it on canvas in a zip file with either the scanned solutions clearly written or in the jupyter notebook below.  The zip file should include all of your code either in this notebook file, or a separate python file that is imported and ran in this notebook.  We should be able to open this notebook and run everything here by running the cells in sequence.  The written portions can be either done in markdown and TeX in new cells or written clearly by hand and scanned.\n",
    "\n",
    "- Code should be well organized and documented\n",
    "- All math should be clear and make sense sequentially\n",
    "- When in doubt explain what is going on\n",
    "- You will be graded on correctness of your math, code efficiency and succinctness, and conclusions and modelling decisions"
   ]
  },
  {
   "cell_type": "markdown",
   "metadata": {},
   "source": [
    "__Exercise 1__ (30 pts)\n",
    "\n",
    "Consider Poisson model with rate parameter $\\lambda$ which has PMF,\n",
    "$$\n",
    "p(y|\\lambda) = \\frac{\\lambda^y}{y!} e^{-\\lambda},\n",
    "$$\n",
    "where $y = 0,1,\\ldots$ is some count variable.\n",
    "In Poison regression, we model $\\lambda = e^{\\beta^\\top x}$ to obtain $p(y | x,\\beta)$.\n",
    "\n",
    "1. Let the loss function for Poisson regression be $\\ell_i(\\beta) \\propto - \\log p(y_i | x_i, \\beta)$ for a dataset consisting of predictor variables and count values $\\{x_i,y_i\\}_{i=1}^n$.  Here $\\propto$ means that we disregard any additive terms that are not dependent on $\\beta$.  Write an expression for $\\ell_i$ and derive its gradient. \n",
    "2. Show that the empirical risk $R_n(\\beta)$ is a convex function of $\\beta$.\n",
    "3. Consider the mapping $F_\\eta(\\beta) = \\beta - \\eta \\nabla R_n(\\beta)$ which is the iteration of gradient descent ($\\eta>0$ is called the learning parameter).  Show that at the minimizer of $R_n$, $\\hat \\beta$, we have that $F(\\hat \\beta) = \\hat \\beta$.\n",
    "4. I have a script to simulate from this model below.  Implement the gradient descent algorithm above and show that with enough data (n large enough) the estimated $\\hat \\beta$ approaches the true $\\beta$ (you can look at the sum of square error between these two vectors)."
   ]
  },
  {
   "cell_type": "markdown",
   "metadata": {},
   "source": [
    "<p  style=\"background-color:rgb(0,185,185)\">\n",
    "    ========================================================================================================================\n",
    "</p>\n",
    "<h3><font color=\"blue\">Answer 1</font></h3>\n",
    "<h4><font color=\"blue\">Answer 1.1</font></h4>\n",
    "<p>\n",
    "    According to the information about loss function for Poisson, we know that:\n",
    "    $$\n",
    "    \\ell_i(\\beta) =-y_i\\log \\lambda + \\lambda =  e^{\\beta^\\top x_i}- y_i \\beta^\\top x_i,\n",
    "    $$\n",
    "    Therefore, its gradient is:\n",
    "    $$\n",
    "    \\nabla_{\\beta} \\ell_i(\\beta) = \n",
    "    \\begin{pmatrix}\n",
    "    \\frac{\\partial}{\\partial \\beta_1}\\\\\n",
    "    \\vdots\\\\\n",
    "    \\frac{\\partial}{\\partial \\beta_n}\n",
    "    \\end{pmatrix}\n",
    "    (e^{\\beta^\\top x_i}- y_i \\beta^\\top x_i)       \n",
    "    =(e^{\\beta^\\top x_i}- y_i)x_i,\n",
    "    $$\n",
    "</p>\n",
    "<h4><font color=\"blue\">Answer 1.2</font></h4>\n",
    "<p>\n",
    "    The empirical risk is $R_n(\\beta)=\\frac 1n \\mathop{\\sum}_{i=1}^n \\ell_i(\\beta) =\\frac 1n \\mathop{\\sum}_{i=1}^n (e^{\\beta^\\top x_i}- y_i \\beta^\\top x_i)$.\n",
    "<p>\n",
    "    Its gradient is :\n",
    "    $$\n",
    "    \\nabla_\\beta R_n(\\beta)\n",
    "    =\n",
    "    \\frac 1n \\sum_{i=1}^n \\nabla_\\beta \\ell_i(\\beta)\n",
    "    =\n",
    "    \\frac 1n \\sum_{i=1}^n (e^{\\beta^\\top x_i}- y_i)x_i.\n",
    "    $$\n",
    "    As for convex, considering the Hessian matrix $H_{R_n}=\\nabla^2_{\\beta} R_n$. For $x_i$\n",
    "    \\begin{align*}\n",
    "    H_{\\ell_i}=&(\\frac{\\partial^2 \\ell_i}{\\partial \\beta_k \\partial \\beta_s})_{n\\times n}\\\\\n",
    "    =&e^{\\beta^\\top x_i} (x_i x_i^\\top)\\succeq 0.\n",
    "    \\end{align*}\n",
    "    Since we know that $\\frac{\\partial^2 R_n}{\\partial \\beta_k \\partial \\beta_s}=\\frac 1n \\textstyle\\sum\\limits_{i=1}^n\n",
    "    \\frac{\\partial^2   \\ell_i}{\\partial \\beta_k \\partial \\beta_s}$. $H_{R_n}=\\frac 1n \\textstyle\\sum\\limits_{i=1}^n H_{\\ell_i}\\succeq 0$. Therefore, it is a convex function for $\\beta$.\n",
    "</p>\n",
    "<h4><font color=\"blue\">Answer 1.3</font></h4>\n",
    "<p>\n",
    "    Since at the minimizer, $\\nabla_\\beta R_n=0$, then $F_\\eta(\\hat\\beta) = \n",
    "    \\hat\\beta - \\eta \\nabla_\\beta R_n(\\hat\\beta)=\\hat\\beta - \\eta\\times 0=\\hat\\beta$.\n",
    "</p>\n",
    "<h4><font color=\"blue\">Answer 1.4</font></h4>\n",
    "<p>\n",
    "    \n",
    "</p>\n"
   ]
  },
  {
   "cell_type": "code",
   "execution_count": 12,
   "metadata": {},
   "outputs": [],
   "source": [
    "import numpy as np\n",
    "import matplotlib.pyplot as plt"
   ]
  },
  {
   "cell_type": "code",
   "execution_count": 4,
   "metadata": {},
   "outputs": [],
   "source": [
    "np.random.seed(5)"
   ]
  },
  {
   "cell_type": "code",
   "execution_count": 5,
   "metadata": {},
   "outputs": [],
   "source": [
    "## Simulate from the Poisson regression model (use y,X)\n",
    "n, p = 1000,20\n",
    "X = np.random.normal(0,1,size = (n,p))\n",
    "beta = np.random.normal(0,.2,size = (p))\n",
    "lamb = np.exp(X @ beta)\n",
    "y = np.random.poisson(lamb)"
   ]
  },
  {
   "cell_type": "code",
   "execution_count": 6,
   "metadata": {},
   "outputs": [],
   "source": [
    "def grad(X,y,beta_hat,n):\n",
    "    grad=1/n*(np.exp(beta_hat.T@X.T)-y) @ X\n",
    "    return grad"
   ]
  },
  {
   "cell_type": "code",
   "execution_count": 7,
   "metadata": {},
   "outputs": [],
   "source": [
    "def control_error(X,y,beta_hat,yita,error):\n",
    "    \"\"\"\n",
    "    iteration condition set\n",
    "    \"\"\"\n",
    "    n,p=X.shape\n",
    "    error_prime=100\n",
    "    error_list=[]\n",
    "    while error_prime>error:\n",
    "        beta_new=beta_hat-yita*grad(X,y,beta_hat,n)\n",
    "        error_prime=sum((beta_new-beta_hat)**2)\n",
    "        beta_hat=beta_new\n",
    "        error_list.append(error_prime)\n",
    "    return error_list"
   ]
  },
  {
   "cell_type": "code",
   "execution_count": 8,
   "metadata": {},
   "outputs": [],
   "source": [
    "beta0=np.zeros(20)"
   ]
  },
  {
   "cell_type": "code",
   "execution_count": 9,
   "metadata": {},
   "outputs": [],
   "source": [
    "#Control\n",
    "error_list=control_error(X,y,beta0, 0.001, 10**(-10))"
   ]
  },
  {
   "cell_type": "code",
   "execution_count": 13,
   "metadata": {},
   "outputs": [
    {
     "data": {
      "text/plain": [
       "[<matplotlib.lines.Line2D at 0x214f77a3b70>]"
      ]
     },
     "execution_count": 13,
     "metadata": {},
     "output_type": "execute_result"
    },
    {
     "data": {
      "image/png": "[encoded data removed]",
      "text/plain": [
       "<Figure size 432x288 with 1 Axes>"
      ]
     },
     "metadata": {
      "needs_background": "light"
     },
     "output_type": "display_data"
    }
   ],
   "source": [
    "plt.plot(np.arange(len(error_list)),error_list)"
   ]
  },
  {
   "cell_type": "markdown",
   "metadata": {},
   "source": [
    "<p  style=\"background-color:rgb(0,185,185)\">\n",
    "    ========================================================================================================================\n",
    "</p>"
   ]
  },
  {
   "cell_type": "markdown",
   "metadata": {},
   "source": [
    "__Exercise 2__ (30 pts)\n",
    "\n",
    "Recall the subset selection problem with tuning parameter $k$,\n",
    "$$\n",
    "\\min_{\\beta : {\\rm supp}(\\beta) \\le k}\\| y - X \\beta \\|_2^2.\n",
    "$$\n",
    "\n",
    "1. Write the subset selection problem in the following form\n",
    "$$\n",
    "\\min_{S \\subseteq \\{1,\\ldots,p\\}, |S|\\le k} y^\\top P_S y,\n",
    "$$\n",
    "where $P_S$ is a projection.  Describe the subspace that is the range of this projection.\n",
    "2. Suppose that we have a nested sequence of models $S_1\\subset S_2 \\subset \\ldots \\subset S_p$ such that $|S_k| = k$ (it contains $k$ variables).  Prove that $$y^\\top P_{S_k} y \\ge y^\\top P_{S_{k+1}} y$$ for $k=1,\\ldots,p-1$.  What does this tell us about the solution to the subset selection problem and the constraint $|S| \\le k$?\n",
    "3. Suppose that $X$ is orthogonal, then write a computationally efficient pseudocode to solve the subset selection problem.  Prove that it is correct (your algorithm actually solves subset selection under othogonal design).\n",
    "4. (Challenge) Suppose that we have that $n = p$ and $y_i = \\beta_i + \\epsilon_i$ (identity design matrix) where $\\epsilon_i$ satisfies \n",
    "$$\n",
    "\\mathbb P \\left\\{ |\\epsilon_i| \\ge t \\right\\} \\le 2 e^{-t^2 / 2\\sigma^2}\n",
    "$$\n",
    "for any $t > 0$ (this is true for central Normal RVs) for some $\\sigma > 0$.\n",
    "Suppose that there is some true $S_0 \\subset\\{1,\\ldots,p\\}$ such that $|S_0| = k < p$ and ${\\rm supp}(\\beta) = S_0$.\n",
    "Prove the following.\n",
    "\n",
    "__Proposition__\n",
    "Define $\\mu = \\min_{j \\in S_0} |\\beta_j|$ and call $\\mu / \\sigma$ the signal-to-noise ratio.  Then if \n",
    "$$\n",
    "\\frac{\\mu}{\\sigma} > 2 \\sqrt{2 \\log \\left( \\frac{2n}{\\delta}\\right)},\n",
    "$$\n",
    "then the true $S$ is selected by subset selection with probability at least $1 - \\delta$.\n",
    "\n",
    "Hint: rewrite the subset selection problem with $X = I$ and compare the objective at $S_0$ to any other $S$."
   ]
  },
  {
   "cell_type": "markdown",
   "metadata": {},
   "source": [
    "<p  style=\"background-color:rgb(0,185,185)\">\n",
    "    ========================================================================================================================\n",
    "</p>\n",
    "<font color=\"Blue\">\n",
    "<h3>Answer 2</h3>\n",
    "\n",
    "<h4>Answer 2.1</h4>\n",
    "</font>\n",
    "<p>\n",
    "    Note $\\beta=\\begin{pmatrix}\n",
    "    \\beta_1\\\\\n",
    "    \\vdots\\\\\n",
    "    \\beta_p\n",
    "    \\end{pmatrix}\n",
    "    $,\n",
    "    ${\\rm supp} (\\beta)=\\{i:\\beta_i\\neq 0 \\}$. Then the question can be written as:\n",
    "\\begin{align}\n",
    "\\min_{\\beta : |{\\rm supp}(\\beta)| \\le k}\\| y - X \\beta \\|_2^2\n",
    "    &=\\min_{|S|\\leq k, S\\subset \\{1,\\cdots, p\\}} \\min_{ {\\rm supp}(\\beta)\\subset S }  \\| y - X \\beta \\|_2^2\n",
    "\\end{align}\n",
    "Since for $S$, the design matrix will be $X_S$ ($X_S$ means: the $i$th column in $X_S$ is the $i$th column in $X$, where $i\\in S$, while other columns are zero, in other words for $X_S$ we keep $i\\in S$ columns and change every other columns to zeros in $X$), and we know that the solution for this least square problem: \n",
    "    $\\min\\limits_{ {\\rm supp}(\\beta)\\subset S }  \\| y - X \\beta \\|_2^2=\\min\\limits_{ {\\rm supp}(\\beta)\\subset S }  \\| y - X_S \\beta \\|_2^2$ is that . \n",
    "$$\n",
    "\\hat\\beta_S=(X_S^\\top X_S)^{-1}X_S^\\top y.\n",
    "$$\n",
    "The hat matrix $H_{S}=X_{S}(X_{S}^\\top X_{S})^{-1}X_{S}^\\top$. $H_S$ is a projection matrix, because symmetirc: $H_S^\\top=H_S$, and idempotent: $H_S^2=X_{S}(X_{S}^\\top X_{S})^{-1}X_{S}^\\top X_{S}(X_{S}^\\top X_{S})^{-1}X_{S}^\\top=X_{S}(X_{S}^\\top X_{S})^{-1}X_{S}^\\top=H_S$.\n",
    "</p>\n",
    "<p>\n",
    "    Then, the projection matrix in the formula can be represented as $P_S=I-H_S$. Then we have the $SSE(S)=y^\\top P_S y=\\min\\limits_{ {\\rm supp}(\\beta)\\subset S }  \\| y - X \\beta \\|_2^2$. Therefore:\n",
    "    \\begin{equation}\n",
    "        \\min_{\\beta : |{\\rm supp}(\\beta)| \\le k}\\| y - X \\beta \\|_2^2=\n",
    "    \\min_{|S|\\leq k, S\\subset \\{1,\\cdots, p\\}} y^\\top P_S y\n",
    "    \\end{equation}\n",
    "    $P_S$ is projection matrix too. Since it is symmetric: $P_S^\\top=I^\\top-H_S^\\top=I-H_S=P_S$, and idempotent: $P_S^2 = I-H_S-H_S+H_S^2=I-H_S-H_S+H_S=I-H_S=P_S$.\n",
    "    The projection space is the column space of $X_S$'s orthogonal complement, $\\{\\text{column space of }X_S\\}^\\perp$. \n",
    "    \n",
    "</p>\n",
    "<font color=\"Blue\"><h4>Answer 2.2</h4></font>\n",
    "<p>\n",
    "   According to the previous results:$SSE(S)=y^\\top P_S y=\\min\\limits_{ {\\rm supp}(\\beta)\\subset S }  \\| y - X \\beta \\|_2^2$. Then:\n",
    "    \\begin{align}\n",
    "    SSE(S_k)&=y^\\top P_{S_k} y=\\min\\limits_{ {\\rm supp}(\\beta)\\subset S_k }  \\| y - X \\beta \\|_2^2,\\\\\n",
    "    SSE(S_{k+1})&=y^\\top P_{S_{k+1}} y=\\min\\limits_{ {\\rm supp}(\\beta)\\subset S_{k+1} }  \\| y - X \\beta \\|_2^2.\n",
    "    \\end{align}\n",
    "    Since $S_k\\subset S_{k+1}$, we have:\n",
    "    \\begin{align*}\n",
    "    \\min\\limits_{ {\\rm supp}(\\beta)\\subset S_k }  \\| y - X \\beta \\|_2^2\n",
    "    &\\leq \\min\\limits_{ {\\rm supp}(\\beta)\\subset S_{k+1} }  \\| y - X \\beta \\|_2^2,\\\\\n",
    "    \\text{i.e. } y^\\top P_{S_k} y&\\leq y^\\top P_{S_{k+1}} y.\n",
    "    \\end{align*}\n",
    "    Therefore, for the constraint  $|S| \\le k$, we know that we get the solution when $|S|=k$.\n",
    "</p>\n",
    "\n",
    "\n",
    "<font color=\"Blue\"><h4>Answer 2.3</h4></font>\n",
    "<p>\n",
    "    The steps:\n",
    "<ol>\n",
    "<li>Calculate: $X^\\top y$</li>\n",
    "<li>Sort the square of each element in $X^\\top y$(by decreasing).</li>\n",
    "<li>Select the top $k$ element's index, $\\{i_1,\\cdots ,i_k\\}$ as $S$. </li>\n",
    "<li>The design matrix is $X_S$.</li>\n",
    "</ol>\n",
    "Now we are going to prove the result is correct. Denote the matrix $E_{ij}$ has all its element zero, except the $i$th row and $j$th column is $1$. Since orthogonal, $X_S^\\top X_S=\\sum\\limits_{i\\in S} E_{ii}$, then the hat matrix $H_S=X_S X_S^\\top$. Then the $SSE(S)=y^\\top y-y^\\top X_S X_S^\\top y=y^\\top y-(X_S^\\top y)^\\top X_S^\\top y$, or in other word $SSR(S)=(X_S^\\top y)^\\top X_S^\\top y=\n",
    "\\|X_S^\\top y\\|_2^2$. Since we also know that to minimize $SSE(S)_{|S|\\leq k}\\Leftrightarrow$ maximize $SSR_{|S|\\leq k}\\Leftrightarrow X_S^\\top y$ choose the elements with index in $S$ in vector $X^\\top y$. We choose the largest $k$ element in $X^\\top y$, and let their index generate the set $S=\\{i_1,\\cdots , i_k\\}$.\n",
    "</p>\n",
    "\n",
    "\n",
    "<font color=\"Blue\"><h4>Answer 2.4</h4></font>\n",
    "<p>\n",
    "   Assuming that for each $i\\in S_0 $, $|\\beta_i|\\geq\\mu$, other $\\beta_j$s are zero. To distinguish them, we need all the error term $\\epsilon$ to flactuate at a range with joint possibility P more than $1-\\delta$. \n",
    "<p>  \n",
    "    In addition, since our goal is to distinguish the two group, we also need to control the $\\epsilon$ so that two ranges will have no intersection, $i.e. \\max\\limits_{j\\not\\in S_0}|\\epsilon_j|<\\min\\limits_{j\\in S_0}|\\beta_j+\\epsilon_j|$. Since we know that $|\\beta_i|\\geq\\mu, i\\in S_0 $, A sufficient condition for this is:\n",
    "    \\begin{align}\n",
    "     2\\max\\limits_{j=1,\\cdots, p}|\\epsilon_j| &<\\mu.\\\\\n",
    "    \\text{i.e.}  \\forall \\epsilon, \\, |\\epsilon|&<\\frac\\mu 2.\n",
    "    \\end{align}\n",
    "   Since we want to choose the unzero terms, and we have noises $\\epsilon_i$. Therefore, the possibility to choose the right subset is the possibility to control every noise $\\epsilon_i$s in $\\frac \\mu 2$. Finally we have:\n",
    "   \\begin{align}\n",
    "   P(\\{\\forall |\\epsilon_k| < \\frac\\mu 2\\})\n",
    "   &=1-P(\\{\\exists |\\epsilon_k| \\geq \\frac\\mu 2\\})\\\\\n",
    "   &\\geq 1- \\sum\\limits_{i=1}^n P(\\{ |\\epsilon_i| \\geq \\frac\\mu 2\\})\\\\\n",
    "   &=1- n P(\\{ |\\epsilon| \\geq \\frac\\mu 2\\})\\\\\n",
    "   &=1- 2n  e^{-(\\frac\\mu 2)^2 / 2\\sigma^2}\\\\\n",
    "   &=1- 2n  e^{-(\\frac\\mu {2\\sigma})^2 / 2}\\\\\n",
    "   &=1- 2n  e^{-\\log \\left( \\frac{2n}{\\delta}\\right)}\\\\\n",
    "   &=1- 2n \\left( \\frac{\\delta}{2n}\\right)\\\\\n",
    "   &=1-\\delta. \n",
    "   \\end{align} \n",
    "</p>\n",
    "<p  style=\"background-color:rgb(0,185,185)\">\n",
    "    ========================================================================================================================\n",
    "</p>"
   ]
  },
  {
   "cell_type": "markdown",
   "metadata": {},
   "source": [
    "__Exercise 3__ (40 pts)\n",
    "For this exercise, it may be helpful to use the `sklearn.linear_model` module.  I have also included a plotting tool for making the lasso path in ESL.\n",
    "\n",
    "1. Load the training and test data using the script below.  Fit OLS on the full dataset and compute the test error.  Throughout you do not need to compute an intercept but you should normalize the X (divide by the column norms).\n",
    "2. Train and tune ridge regression and compute the test error (square error loss).\n",
    "3. Fit the lasso path to the data and compute the test error for each returned lasso coefficient.\n",
    "4. Compare and contrast the lars path to the lasso path, what is the key difference.  Tell me when the active sets differ and how, if they do at all.\n",
    "4. Extract each active set from the lasso path and recompute the restricted OLS for each.  Compute and compare the test error for each model.\n",
    "5. If your boss said that they wanted a more parsimonious model (a smaller model) then which model would you choose, justify your answer.  Under which circumstance would you choose the model with the smallest test error."
   ]
  },
  {
   "cell_type": "code",
   "execution_count": 14,
   "metadata": {},
   "outputs": [],
   "source": [
    "def plot_lars(coefs, lines=False, title=\"Lars Path\"):\n",
    "    \"\"\"\n",
    "    Plot the lasso path where coefs is a matrix - the columns are beta vectors\n",
    "    \"\"\"\n",
    "    xx = np.sum(np.abs(coefs.T), axis=1)\n",
    "    xx /= xx[-1]\n",
    "    plt.plot(xx, coefs.T)\n",
    "    ymin, ymax = plt.ylim()\n",
    "    if lines:\n",
    "        plt.vlines(xx, ymin, ymax, linestyle='dashed')\n",
    "    plt.xlabel('|coef| / max|coef|')\n",
    "    plt.ylabel('Coefficients')\n",
    "    plt.title(title)\n",
    "    plt.axis('tight')"
   ]
  },
  {
   "cell_type": "code",
   "execution_count": 15,
   "metadata": {},
   "outputs": [],
   "source": [
    "import pickle\n",
    "with open('hw2.data','rb') as f:\n",
    "    y_tr,X_tr,y_te,X_te = pickle.load(f)"
   ]
  },
  {
   "cell_type": "code",
   "execution_count": 75,
   "metadata": {},
   "outputs": [],
   "source": [
    "import pandas as pd\n",
    "from sklearn import model_selection\n",
    "from sklearn.model_selection import LeaveOneOut\n",
    "from sklearn import linear_model as lm\n",
    "from sklearn import preprocessing as ppc\n",
    "import math"
   ]
  },
  {
   "cell_type": "markdown",
   "metadata": {},
   "source": [
    "# 0.Risk Class (Including two method: 1.Empirical;2.Leave one out.)"
   ]
  },
  {
   "cell_type": "code",
   "execution_count": 42,
   "metadata": {},
   "outputs": [],
   "source": [
    "class risk:\n",
    "    def __init__(self,mod):\n",
    "        \"\"\"\n",
    "        ---Preliminary: choosing a model from sklearn. \n",
    "        \n",
    "        ---Attribute:\n",
    "            mod:A Regression Model. \n",
    "                ---The model should have:\n",
    "                   1. a method \"fit\" \n",
    "                   2. a method \"predict\": return a fitted value.\n",
    "        \"\"\"\n",
    "        self.mod = mod\n",
    "        \n",
    "    def loo(self,X,y):\n",
    "        \"\"\"\n",
    "        ---Goal: To get the leave-one-out lost.\n",
    "        \n",
    "        ---Preliminary: from sklearn.modele_selection import LeaveOneOut \n",
    "        \n",
    "        ---Input: Design matrix X, Response y.\n",
    "        ---Output: Mean of the leave-one-out loss.\n",
    "        \"\"\"\n",
    "        loo = LeaveOneOut()\n",
    "        loo_sq_err=[]\n",
    "        for train_index, test_index in loo.split(X):\n",
    "            X_train, X_test = X[train_index], X[test_index]\n",
    "            y_train, y_test = y[train_index], y[test_index]\n",
    "            self.mod.fit(X_train,y_train)\n",
    "            y_hat = self.mod.predict(X_test)\n",
    "            loss = np.sum((y_hat-y_test)**2)\n",
    "            loo_sq_err.append(loss)\n",
    "        return np.mean(loo_sq_err)\n",
    "        \n",
    "    def emp(self,X,y):\n",
    "        \"\"\"\n",
    "        ---Goal: To calculate the empirical risk for square error loss.\n",
    "        \n",
    "        ---Input: Design matrix X, Response y.\n",
    "        ---Output: Mean of the square error.\n",
    "        \"\"\"\n",
    "        y_hat = self.mod.predict(X)\n",
    "        return np.mean((y_hat-y)**2)"
   ]
  },
  {
   "cell_type": "markdown",
   "metadata": {},
   "source": [
    "#  Question 1 in OLS\n",
    "\n",
    "__Load the training and test data using the script below. Fit OLS on the full dataset and compute the test error. Throughout you do not need to compute an intercept but you should normalize the X (divide by the column norms).__"
   ]
  },
  {
   "cell_type": "code",
   "execution_count": 19,
   "metadata": {},
   "outputs": [],
   "source": [
    "#Initialize the ordinary linear model\n",
    "ols=lm.LinearRegression(fit_intercept=False)"
   ]
  },
  {
   "cell_type": "code",
   "execution_count": 20,
   "metadata": {},
   "outputs": [],
   "source": [
    "#Normalize the data\n",
    "x_ols_tr=ppc.normalize(X_tr,axis=0)\n",
    "x_ols_te=ppc.normalize(X_te,axis=0)"
   ]
  },
  {
   "cell_type": "code",
   "execution_count": 43,
   "metadata": {},
   "outputs": [
    {
     "data": {
      "text/plain": [
       "1.04114449002708"
      ]
     },
     "execution_count": 43,
     "metadata": {},
     "output_type": "execute_result"
    }
   ],
   "source": [
    "#Calculate the empirical risk.\n",
    "ols.fit(x_ols_tr,y_tr)\n",
    "risk_OLS=risk(ols)\n",
    "risk_OLS.emp(x_ols_te,y_te)"
   ]
  },
  {
   "cell_type": "markdown",
   "metadata": {},
   "source": [
    "#  Question 2 in Ridge\n",
    "__Train and tune ridge regression and compute the test error (square error loss).__"
   ]
  },
  {
   "cell_type": "code",
   "execution_count": 35,
   "metadata": {},
   "outputs": [],
   "source": [
    "#Since the size of the normalized data is too small, we cannot see the data clear or we have to amplify the graph a lot.\n",
    "#Therefore, we use scale to standardize the data.\n",
    "x_rdg_tr=ppc.scale(X_tr)\n",
    "x_rdg_te=ppc.scale(X_te)"
   ]
  },
  {
   "cell_type": "code",
   "execution_count": 44,
   "metadata": {},
   "outputs": [],
   "source": [
    "#Calculate the empirical risk, store them in a list for latter comparison.\n",
    "ridges_emp=[]\n",
    "for k in np.arange(0,6,.01):\n",
    "    Ridge=lm.Ridge(alpha=k)\n",
    "    Ridge.fit(x_rdg_tr,y_tr)\n",
    "    risk_Ridge=risk(Ridge)\n",
    "    ridges_emp.append(risk_Ridge.emp(x_rdg_te,y_te))"
   ]
  },
  {
   "cell_type": "code",
   "execution_count": 45,
   "metadata": {},
   "outputs": [
    {
     "data": {
      "text/plain": [
       "Text(0.5, 1.0, 'Empirical Risk in Ridge Model')"
      ]
     },
     "execution_count": 45,
     "metadata": {},
     "output_type": "execute_result"
    },
    {
     "data": {
      "image/png": "[encoded data removed]",
      "text/plain": [
       "<Figure size 432x288 with 1 Axes>"
      ]
     },
     "metadata": {
      "needs_background": "light"
     },
     "output_type": "display_data"
    }
   ],
   "source": [
    "plt.plot(np.arange(0,6,.01),ridges_emp)\n",
    "plt.xlabel('Alpha (Ridge)')\n",
    "plt.ylabel('Risk')\n",
    "plt.title('Empirical Risk in Ridge Model')"
   ]
  },
  {
   "cell_type": "code",
   "execution_count": 47,
   "metadata": {},
   "outputs": [
    {
     "data": {
      "text/plain": [
       "(2.44, 1.0852563144503902)"
      ]
     },
     "execution_count": 47,
     "metadata": {},
     "output_type": "execute_result"
    }
   ],
   "source": [
    "#The fitting parameter and the minimum loss is:\n",
    "np.arange(0,6,0.01)[ridges_emp.index(np.min(ridges_emp))], min(ridges_emp)\n",
    "#For this part, since we use the scale to standardize the data, the results is different from normalized one."
   ]
  },
  {
   "cell_type": "markdown",
   "metadata": {},
   "source": [
    "# Question 3\n",
    "__Fit the lasso path to the data and compute the test error for each returned lasso coefficient.__"
   ]
  },
  {
   "cell_type": "code",
   "execution_count": 48,
   "metadata": {},
   "outputs": [],
   "source": [
    "# We use the normalized data in this problem.\n",
    "x_la_tr=x_ols_tr\n",
    "x_la_te=x_ols_te"
   ]
  },
  {
   "cell_type": "code",
   "execution_count": 49,
   "metadata": {},
   "outputs": [],
   "source": [
    "# Get the model, since in this model we do not have a method predict and fit, we can not use the class Risk.\n",
    "lasso=lm.lars_path(x_la_tr,y_tr,method=\"lasso\")"
   ]
  },
  {
   "cell_type": "code",
   "execution_count": 58,
   "metadata": {},
   "outputs": [
    {
     "data": {
      "image/png": "[encoded data removed]",
      "text/plain": [
       "<Figure size 432x288 with 1 Axes>"
      ]
     },
     "metadata": {
      "needs_background": "light"
     },
     "output_type": "display_data"
    }
   ],
   "source": [
    "plot_lars(lasso[2],title= \"Lasso Path\")"
   ]
  },
  {
   "cell_type": "code",
   "execution_count": 51,
   "metadata": {},
   "outputs": [],
   "source": [
    "err=[]\n",
    "coef_lasso=lasso[2]\n",
    "for i in range(103):\n",
    "    err.append(np.mean((x_la_te@coef_lasso[:,i]-y_te)**2))"
   ]
  },
  {
   "cell_type": "code",
   "execution_count": 52,
   "metadata": {},
   "outputs": [
    {
     "data": {
      "text/plain": [
       "(0.9973951358866564, 69)"
      ]
     },
     "execution_count": 52,
     "metadata": {},
     "output_type": "execute_result"
    }
   ],
   "source": [
    "#The minimum error and the minimum error's index are\n",
    "min(err),err.index(min(err))"
   ]
  },
  {
   "cell_type": "code",
   "execution_count": 55,
   "metadata": {},
   "outputs": [
    {
     "data": {
      "text/plain": [
       "Text(0.5, 1.0, 'Empirical Risk in Lasso Model Changing with a List of Coefficients')"
      ]
     },
     "execution_count": 55,
     "metadata": {},
     "output_type": "execute_result"
    },
    {
     "data": {
      "image/png": "[encoded data removed]",
      "text/plain": [
       "<Figure size 432x288 with 1 Axes>"
      ]
     },
     "metadata": {
      "needs_background": "light"
     },
     "output_type": "display_data"
    }
   ],
   "source": [
    "plt.plot(err)\n",
    "plt.ylabel('Risk')\n",
    "plt.title('Empirical Risk in Lasso Model Changing with a List of Coefficients')"
   ]
  },
  {
   "cell_type": "markdown",
   "metadata": {},
   "source": [
    "# Question 4\n",
    "__Compare and contrast the lars path to the lasso path, what is the key difference. Tell me when the active sets differ and how, if they do at all__"
   ]
  },
  {
   "cell_type": "code",
   "execution_count": 56,
   "metadata": {},
   "outputs": [],
   "source": [
    "#Set the lars path\n",
    "lars=lm.lars_path(x_la_tr,y_tr,method =\"lar\")"
   ]
  },
  {
   "cell_type": "code",
   "execution_count": 57,
   "metadata": {},
   "outputs": [
    {
     "data": {
      "image/png": "[encoded data removed]",
      "text/plain": [
       "<Figure size 432x288 with 1 Axes>"
      ]
     },
     "metadata": {
      "needs_background": "light"
     },
     "output_type": "display_data"
    }
   ],
   "source": [
    "#Plot by using the function \n",
    "plot_lars(lars[2])"
   ]
  },
  {
   "cell_type": "code",
   "execution_count": 59,
   "metadata": {},
   "outputs": [
    {
     "data": {
      "image/png": "[encoded data removed]",
      "text/plain": [
       "<Figure size 432x288 with 1 Axes>"
      ]
     },
     "metadata": {
      "needs_background": "light"
     },
     "output_type": "display_data"
    }
   ],
   "source": [
    "#Compare to the previous one, reload it\n",
    "plot_lars(lasso[2],title= \"Lasso Path\")"
   ]
  },
  {
   "cell_type": "markdown",
   "metadata": {},
   "source": [
    "<p>\n",
    "    They are identical until the red coefficient cross zero at the $\\frac{|\\text{coef}|}{\\max |\\text{coef}|}$ about 0.75. Since in lasso path, knots are at \"hitting\" and \"leaving\" events, and lasso path keep decreasing $\\lambda$ updating $\\mathcal A$ with hitting and leaving events. However, in lars path, the procedure keep adding predict variables until all predictors have been entered, which means there are no leaving events here.\n",
    "</p>"
   ]
  },
  {
   "cell_type": "markdown",
   "metadata": {},
   "source": [
    "#  Question 5\n",
    "__Extract each active set from the lasso path and recompute the restricted OLS for each. Compute and compare the test error for each model.__"
   ]
  },
  {
   "cell_type": "code",
   "execution_count": 60,
   "metadata": {},
   "outputs": [
    {
     "data": {
      "text/plain": [
       "(100, 103)"
      ]
     },
     "execution_count": 60,
     "metadata": {},
     "output_type": "execute_result"
    }
   ],
   "source": [
    "#See the shape at first\n",
    "lasso[2].shape"
   ]
  },
  {
   "cell_type": "code",
   "execution_count": 61,
   "metadata": {},
   "outputs": [],
   "source": [
    "# Use a dictionary to store the non zero indices.\n",
    "# the last 2-3 positions are just blank, we can see from the graph latter. \n",
    "# We can use 101 here, but we just use 103 to fit the shape.\n",
    "Unzero={}\n",
    "for i in range(103):\n",
    "    Unzero[i]=np.where(lasso[2][:,i]!=0)[0]"
   ]
  },
  {
   "cell_type": "code",
   "execution_count": 63,
   "metadata": {},
   "outputs": [],
   "source": [
    "#we have already set ols in previous parts as ols\n",
    "#and since the \n",
    "ols_rct_err=[]\n",
    "p=x_la_tr.shape[1]\n",
    "for i in np.arange(1,p) :\n",
    "    x_tr_rct=x_la_tr[:,Unzero[i]]\n",
    "    x_te_rct=x_la_te[:,Unzero[i]]\n",
    "    ols.fit(x_tr_rct,y_tr)\n",
    "    risk_OLS=risk(ols)\n",
    "    ols_rct_err.append(risk_OLS.emp(x_te_rct,y_te))"
   ]
  },
  {
   "cell_type": "code",
   "execution_count": 81,
   "metadata": {},
   "outputs": [
    {
     "data": {
      "text/plain": [
       "(0.9848388350452155,\n",
       " 20,\n",
       " array([ 0,  1,  2,  3,  5,  8, 27, 38, 50, 52, 53, 68, 69, 76, 77, 78, 80,\n",
       "        91, 96, 97], dtype=int64))"
      ]
     },
     "execution_count": 81,
     "metadata": {},
     "output_type": "execute_result"
    }
   ],
   "source": [
    "# The minimum empirical risk and its index.\n",
    "min(ols_rct_err),ols_rct_err.index(min(ols_rct_err)), Unzero[ols_rct_err.index(min(ols_rct_err))]"
   ]
  },
  {
   "cell_type": "markdown",
   "metadata": {},
   "source": [
    "The minimum empirical risk is $0.98484$, and we choose the predictors with the orders $ \n",
    "1,2,3,4,6,9,28,39,51,53,54,69,70,77,78,79,81,92,97,98\n",
    "$ to achieve the least empirical risk model."
   ]
  },
  {
   "cell_type": "code",
   "execution_count": 84,
   "metadata": {},
   "outputs": [
    {
     "data": {
      "text/plain": [
       "Text(0.5, 1.0, 'Empirical Risk in Lasso Model Changing with Restricted OLS Model')"
      ]
     },
     "execution_count": 84,
     "metadata": {},
     "output_type": "execute_result"
    },
    {
     "data": {
      "image/png": "[encoded data removed]",
      "text/plain": [
       "<Figure size 432x288 with 1 Axes>"
      ]
     },
     "metadata": {
      "needs_background": "light"
     },
     "output_type": "display_data"
    }
   ],
   "source": [
    "plt.plot(ols_rct_err)\n",
    "plt.ylabel('Risk')\n",
    "plt.title('Empirical Risk in Lasso Model Changing with Restricted OLS Model')"
   ]
  },
  {
   "cell_type": "markdown",
   "metadata": {},
   "source": [
    "We can see that the minimum empirical risk is when we use the 21st coefficient."
   ]
  },
  {
   "cell_type": "markdown",
   "metadata": {},
   "source": [
    "# Question 6\n",
    "__If your boss said that they wanted a more parsimonious model (a smaller model) then which model would you choose, justify your answer. Under which circumstance would you choose the model with the smallest test error.__"
   ]
  },
  {
   "cell_type": "code",
   "execution_count": 72,
   "metadata": {},
   "outputs": [
    {
     "name": "stdout",
     "output_type": "stream",
     "text": [
      "(array([0, 3, 5, 8], dtype=int64),)\n"
     ]
    }
   ],
   "source": [
    "AIC=lm.LassoLarsIC(criterion=\"aic\")\n",
    "#Basing one the smallest error model, we use AIC to eliminate variables.\n",
    "#At first we use all the data we know.\n",
    "x_la=np.concatenate((x_la_tr, x_la_te), axis=0)\n",
    "y_la=np.concatenate((y_tr, y_te), axis=0)\n",
    "AIC.fit(x_la,y_la)\n",
    "print(str(np.where(AIC.coef_!=0)))"
   ]
  },
  {
   "cell_type": "markdown",
   "metadata": {},
   "source": [
    "<p>\n",
    "   If we just take all the data into consideration, we can just use the 1st, 4th, 6th, 9th predictors.And 4 predictors is economical.\n",
    "</p>    \n",
    "<p>\n",
    "   However, if we considering the test error, we manually apply AIC to the test statistics. \n",
    "</p>"
   ]
  },
  {
   "cell_type": "code",
   "execution_count": 62,
   "metadata": {},
   "outputs": [],
   "source": [
    "# Also store the number of predictors, so that latter we can calculate the AIC\n",
    "lenth=[]\n",
    "for i in range(103):\n",
    "    lenth.append(len(Unzero[i]))"
   ]
  },
  {
   "cell_type": "code",
   "execution_count": 76,
   "metadata": {},
   "outputs": [],
   "source": [
    "AIC_err = []\n",
    "for i in range(1,x_la_tr.shape[1]):\n",
    "    x_tr_rct=x_la_tr[:,Unzero[i]]\n",
    "    x_te_rct=x_la_te[:,Unzero[i]]\n",
    "    ols.fit(x_tr_rct,y_tr)\n",
    "    y_hat = ols.predict(x_te_rct)\n",
    "    #here we use the lenth\n",
    "    AIC_err.append(2*lenth[i]+x_la_tr.shape[0]*math.log(np.mean((y_hat - y_te)**2)))"
   ]
  },
  {
   "cell_type": "code",
   "execution_count": 79,
   "metadata": {},
   "outputs": [
    {
     "data": {
      "text/plain": [
       "(25.245694025371797, 19, 19)"
      ]
     },
     "execution_count": 79,
     "metadata": {},
     "output_type": "execute_result"
    }
   ],
   "source": [
    "#The minimum error and the minimum error's index, and the number of predictors are\n",
    "min(AIC_err),AIC_err.index(min(AIC_err)),lenth[AIC_err.index(min(AIC_err))]"
   ]
  },
  {
   "cell_type": "code",
   "execution_count": 80,
   "metadata": {},
   "outputs": [
    {
     "data": {
      "text/plain": [
       "array([ 0,  1,  2,  3,  5,  8, 27, 38, 50, 52, 53, 69, 76, 77, 78, 80, 91,\n",
       "       96, 97], dtype=int64)"
      ]
     },
     "execution_count": 80,
     "metadata": {},
     "output_type": "execute_result"
    }
   ],
   "source": [
    "Unzero[19]"
   ]
  },
  {
   "cell_type": "markdown",
   "metadata": {},
   "source": [
    "The predictors orders are: $1,  2,  3, 4, 6,  9, 28, 39, 51, 53, 54, 70,  77, 78, 79, 81, 92, 97, 98$. No big difference from the result in Question 5."
   ]
  },
  {
   "cell_type": "markdown",
   "metadata": {},
   "source": [
    "Therefore, I prefer the first one, since it really presented a smaller model."
   ]
  }
 ],
 "metadata": {
  "kernelspec": {
   "display_name": "Python 3",
   "language": "python",
   "name": "python3"
  },
  "language_info": {
   "codemirror_mode": {
    "name": "ipython",
    "version": 3
   },
   "file_extension": ".py",
   "mimetype": "text/x-python",
   "name": "python",
   "nbconvert_exporter": "python",
   "pygments_lexer": "ipython3",
   "version": "3.7.1"
  }
 },
 "nbformat": 4,
 "nbformat_minor": 2
}
