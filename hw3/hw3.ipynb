{
 "cells": [
  {
   "cell_type": "markdown",
   "metadata": {},
   "source": [
    "# STA 208: Homework 3 (Do not distribute)\n",
    "\n",
    "## Due Monday 5/6/2019 at midnight\n",
    "\n",
    "__Instructions:__ Submit it on canvas.  The canvas should include all of your code either in this notebook file, or a separate python file that is imported and ran in this notebook.  We should be able to open this notebook and run everything here by running the cells in sequence.  The written portions can be either done in markdown and TeX in new cells or written clearly by hand when you hand it in.  Submit each file separately.\n",
    "\n",
    "- Code should be well organized and documented\n",
    "- All math should be clear and make sense sequentially\n",
    "- When in doubt explain what is going on\n",
    "- You will be graded on correctness of your math, code efficiency and succinctness, and conclusions and modelling decisions"
   ]
  },
  {
   "cell_type": "markdown",
   "metadata": {},
   "source": [
    "__Exercise 1__ (10 pts)\n",
    "\n",
    "Recall that surrogate losses for large margin classification take the form, $\\phi(y_i x_i^\\top \\beta)$ where $y_i \\in \\{-1,1\\}$ and $\\beta, x_i \\in \\mathbb R^p$.\n",
    "\n",
    "The following functions are used as surrogate losses for large margin classification.  Demonstrate if they are convex or not, and follow the instructions.\n",
    "\n",
    "1. exponential loss: $\\phi(x) = e^{-x}$\n",
    "1. truncated quadratic loss: $\\phi(x) = (\\max\\{1-x,0\\})^2$\n",
    "1. hinge loss: $\\phi(x) = \\max\\{1-x,0\\}$\n",
    "1. sigmoid loss: $\\phi(x) = 1 - \\tanh(\\kappa x)$, for fixed $\\kappa > 0$\n",
    "1. Plot these as a function of $x$.\n",
    "\n",
    "(This problem is due to notes of Larry Wasserman.) \n"
   ]
  },
  {
   "cell_type": "markdown",
   "metadata": {},
   "source": [
    "<p  style=\"background-color:rgb(0,185,185)\">\n",
    "    ========================================================================================================================\n",
    "</p>\n",
    "<h3><font color=\"blue\">Answer 1</font></h3>\n",
    "<h4><font color=\"blue\">Answer 1.1</font></h4>\n",
    "<p>\n",
    "    Since $\\phi^{\\prime\\prime}(x) = e^{-x}\\geq 0, \\forall x.$ Thus $\\phi (x) $ is convex.\n",
    "</p>"
   ]
  },
  {
   "cell_type": "markdown",
   "metadata": {},
   "source": [
    "<h4><font color=\"blue\">Answer 1.2</font></h4>\n",
    "<p>\n",
    "    $\\phi(x) = (\\max\\{1-x,0\\})^2$, for $c\\in [0,1].$\n",
    "    By definition, $\\textbf{Convex}\\Longleftrightarrow\\forall x_1,x_2$, we need to prove:\n",
    "    \\begin{align*}\n",
    "    \\phi(cx_1+(1-c)x_2) \\leq c\\phi(x_1)+(1-c)\\phi(x_2).\n",
    "    \\end{align*}\n",
    "</p>   \n",
    "\n",
    "1. When $\\phi(x) = (1-x)^2$ hold for $x_1,x_2$, i.e. $x_1,x_2\\in(-\\infty, 1)$, $\\phi^{\\prime\\prime}(x) = 2\\geq 0.$ Therefore, it is convex.\n",
    "1. When $\\phi(x) = 0$ hold for $x_1,x_2$, i.e. $x_1,x_2\\in[ 1,+\\infty)$, $\\phi^{\\prime\\prime}(x) = 0\\geq 0.$ Therefore, it is convex.\n",
    "1. When $\\phi(x) = (1-x)^2$ hold for $x_1$, and $\\phi(x) = 0$ hold for $x_2$, i.e $x_1\\in(-\\infty, 1),x_2\\in[1,+\\infty)$.\n",
    "(There is no harm to ignore the order of index.)\n",
    "    \\begin{align*}\n",
    "    \\phi(cx_1+(1-c)x_2)&  = (\\max\\{c(1-x_1)+(1-c)(1-x_2),0\\})^2 \\text{  (Since $1\\leq x_2$)}\\\\\n",
    "                       &\\leq (\\max\\{c(1-x_1),0\\})^2 \\\\\n",
    "                       &  =  c^2(1-x_1)^2 =c^2\\phi(x_1)\\\\\n",
    "                       &\\leq c\\phi(x_1)+(1-c)\\phi(x_2).\n",
    "    \\end{align*}\n",
    "    By definition, it is convex in this situation.\n",
    "    \n",
    "<p>\n",
    "    Therefore, $\\forall x_1,x_2$:\n",
    "    \\begin{align*}\n",
    "    \\phi(cx_1+(1-c)x_2) \\leq c\\phi(x_1)+(1-c)\\phi(x_2).\n",
    "    \\end{align*}\n",
    "    The function is convex on $\\mathbb{R}$.\n",
    "</p>\n",
    " "
   ]
  },
  {
   "cell_type": "markdown",
   "metadata": {},
   "source": [
    "<h4><font color=\"blue\">Answer 1.3</font></h4>\n",
    "<p>\n",
    "    $\\phi(x) = (\\max\\{1-x,0\\})$, for $c\\in [0,1].$\n",
    "    By definition, $\\textbf{Convex}\\Longleftrightarrow\\forall x_1,x_2$, we need to prove:\n",
    "    \\begin{align*}\n",
    "    \\phi(cx_1+(1-c)x_2) \\leq c\\phi(x_1)+(1-c)\\phi(x_2).\n",
    "    \\end{align*}\n",
    "</p>   \n",
    "\n",
    "1. When $\\phi(x) = (1-x)$ hold for $x_1,x_2$, i.e. $x_1,x_2\\in(-\\infty, 1)$, $\\phi^{\\prime\\prime}(x) = 0\\geq 0.$ Therefore, it is convex.\n",
    "1. When $\\phi(x) = 0$ hold for $x_1,x_2$, i.e. $x_1,x_2\\in[ 1,+\\infty)$, $\\phi^{\\prime\\prime}(x) = 0\\geq 0.$ Therefore, it is convex.\n",
    "1. When $\\phi(x) = (1-x)$ hold for $x_1$, and $\\phi(x) = 0$ hold for $x_2$, i.e $x_1\\in(-\\infty, 1),x_2\\in[1,+\\infty)$.\n",
    "(There is no harm to ignore the order of index.)\n",
    "    \\begin{align*}\n",
    "    \\phi(cx_1+(1-c)x_2)&  = \\max\\{c(1-x_1)+(1-c)(1-x_2),0\\} \\text{  (Since $1\\leq x_2$)}\\\\\n",
    "                       &\\leq \\max\\{c(1-x_1),0\\} \\\\\n",
    "                       &  =  c(1-x_1) = c\\phi(x_1)+(1-c)\\phi(x_2).\\\\\n",
    "    \\end{align*}\n",
    "    By definition, it is convex in this situation.\n",
    "    \n",
    "<p>\n",
    "    Therefore, $\\forall x_1,x_2$:\n",
    "    \\begin{align*}\n",
    "    \\phi(cx_1+(1-c)x_2) \\leq c\\phi(x_1)+(1-c)\\phi(x_2).\n",
    "    \\end{align*}\n",
    "    The function is convex on $\\mathbb{R}$.\n",
    "</p>\n",
    " "
   ]
  },
  {
   "cell_type": "markdown",
   "metadata": {},
   "source": [
    "\n",
    "<h4><font color=\"blue\">Answer 1.4</font></h4>\n",
    "<p>\n",
    "    Since, $1-\\tanh \\kappa x= 1-\\frac {\\sinh \\kappa x}{\\cosh \\kappa x}$, and\n",
    "    $\\phi^{\\prime}(x) = -\\kappa\\cdot\\frac {\\cosh^2\\kappa x - \\sinh^2\\kappa x}{\\cosh^2\\kappa x}=(-1+\\frac { \\sinh^2\\kappa x}{\\cosh^2\\kappa x})\\kappa$ and $\\phi^{\\prime\\prime}(x) =\\kappa^2 \\frac {2(\\sinh^2\\kappa x-\\cosh^2\\kappa x)\\sinh\\kappa x}{\\cosh^3\\kappa x}$, since $\\sinh^2\\kappa x <  \\cosh^2\\kappa x$, but $\\sinh\\kappa x$ may be less than zero and may be more than zero. Therefore, the function is not always convex.\n",
    "</p>"
   ]
  },
  {
   "cell_type": "markdown",
   "metadata": {},
   "source": [
    "<h4><font color=\"blue\">Answer 1.5: Graphs</font></h4>"
   ]
  },
  {
   "cell_type": "code",
   "execution_count": 3,
   "metadata": {},
   "outputs": [],
   "source": [
    "import numpy as np\n",
    "import pandas as pd\n",
    "import matplotlib.pyplot as plt\n",
    "class Plf:\n",
    "    def expon_risk(x):\n",
    "        y = np.exp(-x)\n",
    "        return y\n",
    "    \n",
    "    def trnc_qua(x):\n",
    "        y = np.max((1-x,0))**2\n",
    "        return y\n",
    "    \n",
    "    def hinge(x):\n",
    "        y = np.max((1-x,0))\n",
    "        return y\n",
    "    \n",
    "    def sigmoid(x,kappa):\n",
    "        y=1-np.tanh(kappa*x)\n",
    "        return y"
   ]
  },
  {
   "cell_type": "code",
   "execution_count": 4,
   "metadata": {},
   "outputs": [
    {
     "data": {
      "text/plain": [
       "Text(0.5, 1.0, 'Exponential Risk')"
      ]
     },
     "execution_count": 4,
     "metadata": {},
     "output_type": "execute_result"
    },
    {
     "data": {
      "image/png": "[encoded data removed]",
      "text/plain": [
       "<Figure size 432x288 with 1 Axes>"
      ]
     },
     "metadata": {
      "needs_background": "light"
     },
     "output_type": "display_data"
    }
   ],
   "source": [
    "plt.plot(np.arange(-1,5,0.01),Plf.expon_risk(np.arange(-1,5,0.01)))\n",
    "plt.title(\"Exponential Risk\")"
   ]
  },
  {
   "cell_type": "code",
   "execution_count": 5,
   "metadata": {},
   "outputs": [
    {
     "data": {
      "text/plain": [
       "Text(0.5, 1.0, 'Truncated Loss')"
      ]
     },
     "execution_count": 5,
     "metadata": {},
     "output_type": "execute_result"
    },
    {
     "data": {
      "image/png": "[encoded data removed]",
      "text/plain": [
       "<Figure size 432x288 with 1 Axes>"
      ]
     },
     "metadata": {
      "needs_background": "light"
     },
     "output_type": "display_data"
    }
   ],
   "source": [
    "y=[]\n",
    "for i in np.arange(-4,4,0.01):\n",
    "   y.append(Plf.trnc_qua(i)) \n",
    "plt.plot(np.arange(-4,4,0.01),y)\n",
    "plt.title(\"Truncated Loss\")"
   ]
  },
  {
   "cell_type": "code",
   "execution_count": 6,
   "metadata": {},
   "outputs": [
    {
     "data": {
      "text/plain": [
       "Text(0.5, 1.0, 'Hinge')"
      ]
     },
     "execution_count": 6,
     "metadata": {},
     "output_type": "execute_result"
    },
    {
     "data": {
      "image/png": "[encoded data removed]",
      "text/plain": [
       "<Figure size 432x288 with 1 Axes>"
      ]
     },
     "metadata": {
      "needs_background": "light"
     },
     "output_type": "display_data"
    }
   ],
   "source": [
    "y=[]\n",
    "for i in np.arange(-4,4,0.01):\n",
    "   y.append(Plf.hinge(i)) \n",
    "plt.plot(np.arange(-4,4,0.01),y)\n",
    "plt.title(\"Hinge\")"
   ]
  },
  {
   "cell_type": "code",
   "execution_count": 10,
   "metadata": {},
   "outputs": [
    {
     "data": {
      "text/plain": [
       "Text(0.5, 1.0, 'Sigmoid')"
      ]
     },
     "execution_count": 10,
     "metadata": {},
     "output_type": "execute_result"
    },
    {
     "data": {
      "image/png": "[encoded data removed]",
      "text/plain": [
       "<Figure size 432x288 with 1 Axes>"
      ]
     },
     "metadata": {
      "needs_background": "light"
     },
     "output_type": "display_data"
    }
   ],
   "source": [
    "for j in (0.5,0.8,1,2):\n",
    "    y=[]\n",
    "    for i in np.arange(-4,4,0.01):\n",
    "       y.append(Plf.sigmoid(i,kappa=j)) \n",
    "    plt.plot(np.arange(-4,4,0.01),y,label=\"k= \"+str(j))\n",
    "    plt.legend()\n",
    "plt.title(\"Sigmoid\")"
   ]
  },
  {
   "cell_type": "markdown",
   "metadata": {},
   "source": [
    "<p  style=\"background-color:rgb(0,185,185)\">\n",
    "    ========================================================================================================================\n",
    "</p>"
   ]
  },
  {
   "cell_type": "markdown",
   "metadata": {},
   "source": [
    "__Exercise 2__ (20 pts)\n",
    "\n",
    "Consider the truncated quadratic loss from (1.1.2).  For brevity let $a_+ = max\\{a,0\\}$ denote the positive part of $a$.\n",
    "\n",
    "$$\\ell(y_i,x_i,\\beta) = \\phi(y_i x_i^\\top \\beta) = (1-y_i x_i^\\top \\beta)_+^2$$\n",
    "\n",
    "1. Consider the empirical risk, $R_n$ (the average loss over a training set) for the truncated quadratic loss.  What is gradient of $R_n$ in $\\beta$?  Does it always exists?\n",
    "1. Demonstrate that the gradient does not have continuous derivative everywhere.\n",
    "1. Recall that support vector machines used the hinge loss $(1 - y_i x_i^\\top \\beta)_+$ with a ridge regularization.  Write the regularized optimization method for the truncated quadratic loss, and derive the gradient of the regularized empirical risk.\n",
    "1. In quasi-Newton methods a matrix ($Q$) that is a surrogate for the Hessian of the objective $L$ is used to determine step direction.\n",
    "\n",
    "$$\n",
    "\\beta \\gets \\beta - Q^{-1} \\nabla L(\\beta)\n",
    "$$\n",
    "\n",
    "\n",
    "Because the loss does not have continuous Hessian, instead of the Newton method, we will use a quasi-Newton method that replaces the Hessian with a quasi-Hessian (another matrix that is meant to approximate the Hessian).  Consider the following quasi-Hessian of the regularized objective to be $$G(\\beta) = \\frac 1n \\sum_i 2 (x_i x_i^\\top 1\\{ y_i x_i^\\top \\beta < 1 \\}) + 2 \\lambda I.$$  Demonstrate that the quasi-Hessian is positive definite, and write pseudo-code for quasi-Newton optimization, comment on the computational complexity of this method."
   ]
  },
  {
   "cell_type": "markdown",
   "metadata": {},
   "source": [
    "<p  style=\"background-color:rgb(0,185,185)\">\n",
    "    ========================================================================================================================\n",
    "</p>\n",
    "<font color=\"Blue\">\n",
    "<h3>Answer 2</h3>\n",
    "\n",
    "<h4>Answer 2.1</h4>\n",
    "</font>\n",
    "<p>\n",
    "    Since $\\ell_i(y_i,x_i,\\beta) = \\phi(y_i x_i^\\top \\beta) = (\\max\\{1-y_i x_i^\\top \\beta,0\\})^2$.\n",
    "    \\begin{equation}\n",
    "    \\nabla_{\\beta} \\ell_i=(\\nabla_{\\beta}) \\left(\\phi(y_i x_i^\\top \\beta)\\right) = \n",
    "    \\begin{pmatrix}\n",
    "    \\frac{\\partial}{\\partial \\beta_1}\\\\\n",
    "    \\vdots\\\\\n",
    "    \\frac{\\partial}{\\partial \\beta_p}\n",
    "    \\end{pmatrix}\n",
    "     (\\max\\{1-y_i x_i^\\top \\beta,0\\})^2  \n",
    "    = \\left\\{\n",
    "    \\begin{array}{lc@{\\qquad}l}\n",
    "    &\\begin{pmatrix}\n",
    "    \\frac{\\partial}{\\partial \\beta_1}\\\\\n",
    "    \\vdots\\\\\n",
    "    \\frac{\\partial}{\\partial \\beta_p}\n",
    "    \\end{pmatrix}\n",
    "    (1-y_i x_i^\\top \\beta)^2= -2y_i(1-y_i x_i^\\top \\beta)x_i,\\,\\,\\textbf{if }y_i x_i^\\top \\beta< 1 \\\\\n",
    "    &0,    \\,\\,\\textbf{if } y_i x_i^\\top \\beta> 1\n",
    "    \\end{array}\n",
    "    \\right.\n",
    "    \\end{equation}\n",
    "    Where $x_i=\\begin{pmatrix}\n",
    "    x_i^1\\\\\n",
    "    x_i^2\\\\\n",
    "    \\vdots\\\\\n",
    "    x_i^p\n",
    "    \\end{pmatrix}$, \n",
    "    $\\beta=\\begin{pmatrix}\n",
    "    \\beta_1\\\\\n",
    "    \\beta_2\\\\\n",
    "    \\vdots\\\\\n",
    "    \\beta_p\n",
    "    \\end{pmatrix}$.\n",
    "<p>\n",
    "    For the boundary $y_i x_i^\\top \\beta= 1$,\n",
    "    we choose an arbitrary path with the variate vector $\\Delta \\beta=\n",
    "    \\begin{pmatrix}\n",
    "    \\Delta\\beta_1\\\\\n",
    "    \\Delta\\beta_2\\\\\n",
    "    \\vdots\\\\\n",
    "    \\Delta\\beta_p\n",
    "    \\end{pmatrix}\n",
    "    $. Then, randomly choose a point $\\beta$ the directional derivative will be :\n",
    "    \\begin{align*}\n",
    "    \\lim\\limits_{\\left\\lVert\\Delta\\beta\\right\\rVert_2\\to 0} &\n",
    "    \\frac{ (1-y_i \\sum\\limits_{k=1}^p x_i^k (\\beta_k+\\Delta\\beta_k))^2-(1-y_i \\sum\\limits_{k=1}^p x_i^k\\beta_k)^2}{\\left\\lVert\\Delta\\beta\\right\\rVert_2}\n",
    "    \\\\\n",
    "    =\\lim\\limits_{\\left\\lVert\\Delta\\beta\\right\\rVert_2\\to 0} &\\frac{ (0-y_i \\sum\\limits_{k=1}^p x_i^k\\Delta\\beta_k)^2-0^2}{\\left\\lVert\\Delta\\beta\\right\\rVert_2}\\\\\n",
    "    =\\lim\\limits_{\\left\\lVert\\Delta\\beta\\right\\rVert_2\\to 0} &y_i^2\\frac{ (\\sum\\limits_{k=1}^p x_i^k\\Delta\\beta_k)^2}{\\left\\lVert\\Delta\\beta\\right\\rVert_2}\\,\\,\\,\n",
    "    \\text{(we can figure out here that it is no less than zero)} \\\\\n",
    "    \\leq \\lim\\limits_{\\left\\lVert\\Delta\\beta\\right\\rVert_2\\to 0} &y_i^2\\frac{ (p\\max\\limits_{k=1,\\cdots,p}{x_i^k\\Delta\\beta_k})^2}{\\max\\limits_{k=1,\\cdots,p}\\Delta\\beta_k}\\\\\n",
    "    \\leq \\lim\\limits_{\\left\\lVert\\Delta\\beta\\right\\rVert_2\\to 0} &y_i^2\\frac{ (p\\max\\limits_{k=1,\\cdots,p}x_i^k \\max\\limits_{k=1,\\cdots,p}\\Delta\\beta_k)^2}{\\max\\limits_{k=1,\\cdots,p}\\Delta\\beta_k}\\\\\n",
    "    \\leq \\lim\\limits_{\\left\\lVert\\Delta\\beta\\right\\rVert_2\\to 0} &y_i^2 (p\\max\\limits_{k=1,\\cdots,p}x_i^k )^2 \\max\\limits_{k=1,\\cdots,p}\\Delta\\beta_k=0\n",
    "    \\end{align*}\n",
    "    Therefore, the gradient here is zero, and we can get the conclusion that all gradient exist.\n",
    "</p>\n",
    "<p>\n",
    "   In conclusion,  \n",
    "    \\begin{equation}\n",
    "    \\nabla_{\\beta} \\ell_i\n",
    "    =-2y_i(1-y_i x_i^\\top \\beta)_+ x_i =\\left\\{\n",
    "    \\begin{array}{lc@{\\qquad}l}\n",
    "    & -2y_i(1-y_i x_i^\\top \\beta)x_i,\\,\\,\\textbf{if }y_i x_i^\\top \\beta < 1 \\\\\n",
    "    & 0,    \\,\\,\\textbf{if } y_i x_i^\\top \\beta\\geq 1\n",
    "    \\end{array}\n",
    "    \\right.\n",
    "    \\end{equation}\n",
    "    And for $R_n$, the gradient always exists and it is:\n",
    "    \\begin{equation}\n",
    "    \\nabla_{\\beta} R_n=\\frac1n \\sum\\limits_{i=1}^n \\nabla_{\\beta} \\ell_i\n",
    "    = \\frac1n \\sum\\limits_{i=1}^n(-2y_i(1-y_i x_i^\\top \\beta)_+ x_i)\n",
    "    \\end{equation}\n",
    "</p>"
   ]
  },
  {
   "cell_type": "markdown",
   "metadata": {},
   "source": [
    "<font color=\"blue\">\n",
    "<h4>Answer 2.2</h4>\n",
    "</font>\n",
    "<p>\n",
    "    The gradient does not have continuous derivative everywhere $\\Longleftrightarrow$ $\\exists i\\in\\{1,\\cdots,n\\},$ $\\nabla_{\\beta} \\ell_i$ is not continuous.\n",
    "</p>\n",
    "<p>\n",
    "    For a fixed $i\\in\\{1,\\cdots,n\\}$,\n",
    "    \\begin{equation}\n",
    "    \\nabla_{\\beta}(\\nabla_{\\beta} \\ell_i)\n",
    "    = \\left\\{\n",
    "    \\begin{array}{lc@{\\qquad}l}\n",
    "    & \\nabla_{\\beta}(-2y_i(1-y_i x_i^\\top \\beta)x_i)= 2y_i^2 x_i x_i^\\top,\\,\\,\\textbf{if }y_i x_i^\\top \\beta < 1 \\\\\n",
    "    & 0_{p\\times p},    \\,\\,\\textbf{if } y_i x_i^\\top \\beta\\geq 1\n",
    "    \\end{array}\n",
    "    \\right.\n",
    "    \\end{equation}\n",
    "    Therefore, if we let $y_i=\\frac1{x_i^\\top\\beta}$, and $x_i\\neq 0_{1\\times p}$, we can figure out that it is not continuos in its neighborhood.                                                                                             \n",
    "</p>"
   ]
  },
  {
   "cell_type": "markdown",
   "metadata": {},
   "source": [
    "<font color=\"blue\">\n",
    "<h4>Answer 2.3</h4>\n",
    "</font>\n",
    "<p>\n",
    "    In this case,  $\\ell_i(y_i,x_i,\\beta) = \\phi(y_i x_i^\\top \\beta) = (\\max\\{1-y_i x_i^\\top \\beta,0\\})^2+\\lambda\\left\\vert| \\beta |\\right\\vert ^2$.\n",
    "</p>\n",
    "<p>\n",
    "    \\begin{equation}\n",
    "    \\nabla_{\\beta} \\ell_i\n",
    "    =-2y_i(1-y_i x_i^\\top \\beta)_+ x_i+ 2\\beta =\\left\\{\n",
    "    \\begin{array}{lc@{\\qquad}l}\n",
    "    & -2y_i(1-y_i x_i^\\top \\beta)x_i+ 2\\beta,\\,\\,\\textbf{if }y_i x_i^\\top \\beta < 1 \\\\\n",
    "    & 2\\beta,    \\,\\,\\textbf{if } y_i x_i^\\top \\beta\\geq 1\n",
    "    \\end{array}\n",
    "    \\right.\n",
    "    \\end{equation}                                                                                       And for $R_n=\\frac1n \\sum\\limits_{i=1}^n \\ell_i$, the gradient always exists and it is:\n",
    "    \\begin{equation}\n",
    "    \\nabla_{\\beta} R_n=\\frac1n \\sum\\limits_{i=1}^n \\nabla_{\\beta} \\ell_i\n",
    "    \\end{equation}\n",
    "</p>"
   ]
  },
  {
   "cell_type": "markdown",
   "metadata": {},
   "source": [
    "<font color=\"blue\">\n",
    "<h4>Answer 2.4</h4>\n",
    "</font>\n",
    "<p>\n",
    "    In this case,  $G(\\beta) = \\frac 1n \\sum_i 2 (x_i x_i^\\top 1\\{ y_i x_i^\\top \\beta < 1 \\}) + 2 \\lambda I.  \\,\\, \\lambda>0$\n",
    "</p>\n",
    "<p>\n",
    "    $\\forall v\\in \\mathbb{R}^p$,\n",
    "    \\begin{align}\n",
    "    v^\\top G(\\beta) v\n",
    "    &= \\frac 1n \\sum_i 2(v^\\top x_i x_i^\\top v 1\\{ y_i x_i^\\top \\beta < 1 \\})+2 \\lambda v^\\top v \\\\\n",
    "    &= \\frac 1n \\sum_i 2( (x_i^\\top v)^2 1\\{ y_i x_i^\\top \\beta < 1 \\}) + 2 \\lambda v^\\top v\\\\\n",
    "    &\\geq 0\n",
    "    \\end{align}\n",
    "    Since, $(x_i^\\top v)^2\\geq 0$, and $v^\\top v\\geq 0$.\n",
    "</p>\n",
    "<p>\n",
    "    The pseudo-code for quasi-Newton optimization as follows: \n",
    "</p>\n",
    "\n",
    "1. Initialize the $\\beta_k=0$, and $\\epsilon>0$.\n",
    "1. Calculate the $\\nabla R_n(\\beta)=\\sum\\limits_{i=1}^n\n",
    "(-2y_i(1-y_i x_i^\\top \\beta)_+ x_i) + 2\\lambda \\beta_k$. \n",
    "1. Calculate the $G(\\beta) = \\frac 1n \\sum_i 2 (x_i x_i^\\top 1\\{ y_i x_i^\\top \\beta < 1 \\}) + 2 \\lambda I.$\n",
    "1. $\\beta_{k+1}=\\beta_k - (G(\\beta_k))^{-1} \\nabla R_n(\\beta_k)$.\n",
    "1. If $\\left\\vert \\beta_{k+1}-\\beta_k  \\right\\vert >\\epsilon$, then repeat from step 2, else return $\\beta_{k+1}$\n",
    "<p  style=\"background-color:rgb(0,185,185)\">\n",
    "    ========================================================================================================================\n",
    "</p>"
   ]
  },
  {
   "cell_type": "markdown",
   "metadata": {},
   "source": [
    "**Exercise 3 (20 pts)**\n",
    "\n",
    "Consider the simulation below.\n",
    "\n",
    "1. Implement minibatch stochastic gradient descent using the truncated quadratic loss.  Access the data by iteratively calling the ``sim_data`` method below.  \n",
    "\n",
    "2. With minibatch size of $1$ (SGD).  Vary to learning schedule to be constant, decaying with $\\eta_t \\propto t**{-1/2}$, and $\\eta_t \\propto t^{-1}$.  Compare with normal noise (the ``noise_dis`` parm).\n",
    "\n",
    "3. Vary the minibatch size to see the change in performance, with the best learning schedule from 2. When you compare two methods, make sure that you compare them with the same amount of data accessed (so use 1:10 ratio of iterations if you are comparing a minibatch ratio of 10:1).\n",
    "\n",
    "4. Redo 2, 3 with ``noise_dis`` set to ``\"chisquare\"``."
   ]
  },
  {
   "cell_type": "code",
   "execution_count": 1,
   "metadata": {},
   "outputs": [],
   "source": [
    "import numpy as np"
   ]
  },
  {
   "cell_type": "code",
   "execution_count": 110,
   "metadata": {},
   "outputs": [],
   "source": [
    "class DataSimulator:\n",
    "    \"\"\"\n",
    "    Simulate the data for linear classification\n",
    "    \"\"\"\n",
    "    def __init__(self,p,noise_dist = \"normal\"):\n",
    "        self.beta = np.random.normal(0,1,p)\n",
    "        self.noise_dist = noise_dist\n",
    "        self.p = p\n",
    "        \n",
    "    def sim_data(self,m = 1):\n",
    "        p = self.p\n",
    "        X = np.random.normal(0,1,(m,p))\n",
    "        if self.noise_dist == \"normal\":\n",
    "            eps = np.random.normal(0,1,m)\n",
    "        if self.noise_dist == \"chisquare\":\n",
    "            eps = np.random.chisquare(1,m)\n",
    "        z = X @ self.beta + eps\n",
    "        y = 1*(z > 0)\n",
    "        return X, y"
   ]
  },
  {
   "cell_type": "code",
   "execution_count": 9,
   "metadata": {},
   "outputs": [
    {
     "data": {
      "text/plain": [
       "(array([[-8.82760716e-01,  3.11498912e-01,  9.23795147e-01,\n",
       "          1.61536818e+00,  8.96260892e-01,  3.97902536e-01,\n",
       "         -7.26042790e-01, -8.15414265e-02,  2.40711842e-01,\n",
       "          1.54514937e+00],\n",
       "        [-9.09026409e-01,  1.84392586e-01,  7.11932756e-01,\n",
       "          4.58398533e-01, -2.68785064e+00,  4.01885117e-01,\n",
       "         -2.08945052e-01, -3.85312070e-04, -8.22808981e-01,\n",
       "         -1.28058200e+00],\n",
       "        [ 1.09881842e+00,  8.59804799e-01, -4.74453657e-01,\n",
       "          3.58426865e-01,  9.96840138e-01,  1.36254269e+00,\n",
       "          5.00507551e-01, -3.15185392e-01,  1.46405671e-01,\n",
       "          7.70887297e-01],\n",
       "        [-4.39329053e-01,  4.72952643e-02, -1.75216771e+00,\n",
       "         -6.00553048e-01,  1.87289087e-01, -5.59439958e-01,\n",
       "         -6.25566297e-01,  1.33319438e-01, -1.05928270e+00,\n",
       "          5.15527106e-01],\n",
       "        [ 7.92426056e-01, -5.14292065e-01, -3.97204403e-01,\n",
       "         -4.49388093e-02,  1.34709454e-01,  4.26510677e-01,\n",
       "          1.39772818e-01, -2.67506249e-01,  7.85905597e-01,\n",
       "         -7.85928979e-01],\n",
       "        [-3.73756959e-01, -1.67520892e+00, -7.55010658e-01,\n",
       "          3.80090338e-01, -3.76949602e-01,  5.13669949e-01,\n",
       "         -2.24002334e-01, -1.79050909e+00,  1.19470174e+00,\n",
       "         -8.41498934e-01],\n",
       "        [ 8.62779210e-02, -6.53998619e-01, -2.31624731e-01,\n",
       "          1.02848711e+00, -1.33877317e+00, -1.65369492e+00,\n",
       "         -6.98819478e-01, -1.28458941e+00, -1.45591577e+00,\n",
       "          1.47157419e+00],\n",
       "        [-1.28265459e+00, -1.33089387e+00, -8.60199337e-01,\n",
       "         -1.89336134e+00,  5.57891072e-01,  1.59841482e+00,\n",
       "         -1.38349288e+00,  7.31398594e-01,  2.29028843e-01,\n",
       "         -2.33605868e+00],\n",
       "        [-2.51178688e+00, -1.05153981e+00, -8.47615098e-01,\n",
       "          1.00070004e+00, -2.28306575e-02,  1.39963866e+00,\n",
       "          1.21992518e+00, -7.26248622e-01, -6.67474434e-01,\n",
       "          9.52375117e-02],\n",
       "        [ 2.78709062e+00, -1.55672483e+00,  1.83076901e+00,\n",
       "          2.32674656e-01,  1.52503766e+00, -1.08504137e+00,\n",
       "          1.13583270e+00, -2.92048525e+00, -4.79237521e-02,\n",
       "          2.07187843e+00]]), array([1, 0, 1, 0, 1, 1, 0, 0, 0, 1]))"
      ]
     },
     "execution_count": 9,
     "metadata": {},
     "output_type": "execute_result"
    }
   ],
   "source": [
    "ds = DataSimulator(10)\n",
    "X,y=ds.sim_datum(m=10)"
   ]
  },
  {
   "cell_type": "markdown",
   "metadata": {},
   "source": [
    "<p  style=\"background-color:rgb(0,185,185)\">\n",
    "    ========================================================================================================================\n",
    "</p>"
   ]
  },
  {
   "cell_type": "markdown",
   "metadata": {},
   "source": [
    "## 3.1 Implement minibatch stochastic gradient descent using the truncated quadratic loss"
   ]
  },
  {
   "cell_type": "code",
   "execution_count": 111,
   "metadata": {},
   "outputs": [],
   "source": [
    "class mn_sgd:\n",
    "    def __init__(self, dim, num_batch=1, decay=-0.5, eta=0.01, beta_init=None,t=0):\n",
    "        \"\"\"\n",
    "        dim: dimensions\n",
    "        num_batch: the number of data in a single batch\n",
    "        decay, t, eta: show the stepsize at the time t by--- eta*t**decay\n",
    "        beta_init: the initial value of beta\n",
    "        \"\"\"\n",
    "        self.num_batch=num_batch\n",
    "        self.decay = decay\n",
    "        self.p = dim\n",
    "        self.eta=eta\n",
    "        self.t=t\n",
    "        self.X=None\n",
    "        if beta_init:\n",
    "            self.beta = beta_init\n",
    "        else:\n",
    "            self.beta = np.zeros(dim)\n",
    "        self.loss=[]\n",
    "        \n",
    "        #here are two list to see the convergence of beta.\n",
    "        self.quotient_mean=[]\n",
    "        self.quotient_variance=[]\n",
    "            \n",
    "    def trc_beta_update(self,X_add,y_add):\n",
    "        \"\"\"\n",
    "        ---Goal: To update the beta.\n",
    "        \n",
    "        ---Input: X_add: the new batch of predict data that we took into consideration\n",
    "                  y_add: the new batch of response data that we took into consideration.\n",
    "        \"\"\"\n",
    "        if self.t==0:\n",
    "            self.X = X_add\n",
    "            self.y = y_add\n",
    "        else:\n",
    "            self.X=np.append(self.X,X_add,axis=0)\n",
    "            self.y=np.append(self.y,y_add)\n",
    "            \n",
    "        self.t +=1\n",
    "        num_batch=self.num_batch\n",
    "        stepsize=self.t**self.decay*self.eta\n",
    "        y_score = X_add@self.beta\n",
    "        criterion= 1-y_add*y_score\n",
    "        cri=np.maximum(criterion,np.zeros(num_batch))\n",
    "        gradient= -(2/num_batch)*(np.array(y_add*cri)@X_add.reshape(num_batch,self.p))\n",
    "        self.beta = self.beta-stepsize*gradient\n",
    "    \n",
    "    \n",
    "    def loss_update(self,true_beta):\n",
    "        \"\"\"\n",
    "        Goal: to record the loss at these moment\n",
    "        Input: the true beta we store in the DataSimulator\n",
    "        \"\"\"\n",
    "        self.loss.append(np.sqrt(sum((true_beta-self.beta)**2)))\n",
    "        \n",
    "        \n",
    "        \n",
    "    def quotient_update(self, true_beta):\n",
    "        \"\"\"\n",
    "        Goal: to record the relation between the true beta and the beta we got.\n",
    "        Input: the true beta we store in the DataSimulator\n",
    "        \"\"\"\n",
    "        quotient=true_beta/self.beta\n",
    "        self.quotient_mean.append(np.mean(quotient))\n",
    "        self.quotient_variance.append(np.var(quotient))"
   ]
  },
  {
   "cell_type": "code",
   "execution_count": 112,
   "metadata": {},
   "outputs": [],
   "source": [
    "def Online_minibatch_simulator(T,dim,num_batch=1, decay=-0.5, eta=0.01,beta_init=None):\n",
    "    \"\"\"\n",
    "    T: total time.\n",
    "    \"\"\"\n",
    "    sgd=mn_sgd(dim, num_batch, decay, eta,beta_init)\n",
    "    ds = DataSimulator(dim)\n",
    "    true_beta=ds.beta\n",
    "    for i in range(T):\n",
    "        X_add,y_add=ds.sim_data(m=num_batch)\n",
    "        sgd.trc_beta_update(X_add,y_add)\n",
    "        sgd.loss_update(true_beta)\n",
    "        sgd.quotient_update(true_beta)\n",
    "    return sgd, true_beta"
   ]
  },
  {
   "cell_type": "markdown",
   "metadata": {},
   "source": [
    "<p>\n",
    "The loss at the moment t we use in this question is $\\left\\Vert \\hat\\beta^{(t)}- \\beta_{\\textbf{true}}\\right\\Vert_2 ^2$. However, since the procedure here, we might find that $\\hat\\beta^{(t)} \\approx c\\beta_{\\textbf{true}}$, where $c\\in\\mathbb{R}$. From the example below we can see my \"Online_minibatch_simulator\" works and the graph will show that the mean of $\\frac{\\hat\\beta_i}{{\\beta_{\\textbf{true}}}_i}$s could be converged, and the variance should be on a level that can be controled. Moreover, we will show that the loss which should near to $\\left\\Vert c\\beta_{\\textbf{true}}- \\beta_{\\textbf{true}}\\right\\Vert_2 ^2=\\left\\vert1-c\\right\\vert\\left\\Vert \\beta_{\\textbf{true}}\\right\\Vert_2 ^2$.\n",
    "</p>"
   ]
  },
  {
   "cell_type": "code",
   "execution_count": 114,
   "metadata": {},
   "outputs": [],
   "source": [
    "#my online procedure works.\n",
    "sgd,true_beta=Online_minibatch_simulator(10000,10,num_batch=10)"
   ]
  },
  {
   "cell_type": "code",
   "execution_count": 142,
   "metadata": {},
   "outputs": [
    {
     "data": {
      "text/plain": [
       "(0, 2)"
      ]
     },
     "execution_count": 142,
     "metadata": {},
     "output_type": "execute_result"
    },
    {
     "data": {
      "image/png": "[encoded data removed]",
      "text/plain": [
       "<Figure size 432x288 with 1 Axes>"
      ]
     },
     "metadata": {
      "needs_background": "light"
     },
     "output_type": "display_data"
    }
   ],
   "source": [
    "plt.plot(sgd.loss)\n",
    "plt.ylim(0,2)"
   ]
  },
  {
   "cell_type": "markdown",
   "metadata": {},
   "source": [
    "<p>\n",
    "    The plot below shows the convergences, and the variance fluctuate on a level.\n",
    "</p>"
   ]
  },
  {
   "cell_type": "code",
   "execution_count": 146,
   "metadata": {},
   "outputs": [
    {
     "data": {
      "text/plain": [
       "<matplotlib.legend.Legend at 0x16b6f07fb70>"
      ]
     },
     "execution_count": 146,
     "metadata": {},
     "output_type": "execute_result"
    },
    {
     "data": {
      "image/png": "[encoded data removed]",
      "text/plain": [
       "<Figure size 720x360 with 2 Axes>"
      ]
     },
     "metadata": {
      "needs_background": "light"
     },
     "output_type": "display_data"
    }
   ],
   "source": [
    "plt.figure(figsize=(10,5))\n",
    "plt.subplot(2,1,1)\n",
    "plt.plot(sgd.quotient_mean[8000:],label=\"c\")\n",
    "#plt.title(\"c\")\n",
    "plt.ylim(2,3)\n",
    "plt.legend()\n",
    "plt.subplot(2,1,2)\n",
    "plt.plot(sgd.quotient_variance[8000:],label=\"Variance is Controlled\")\n",
    "#plt.title(\"Variance is Controlled\")\n",
    "plt.ylim(1,2.5)\n",
    "plt.legend()"
   ]
  },
  {
   "cell_type": "markdown",
   "metadata": {},
   "source": [
    "##  3.2 With minibatch size of $1$ (SGD).  Vary to learning schedule to be constant, decaying with $\\eta_t \\propto t**{-1/2}$, and $\\eta_t \\propto t^{-1}$.  Compare with normal noise (the ``noise_dis`` parm)."
   ]
  },
  {
   "cell_type": "markdown",
   "metadata": {},
   "source": [
    "Since we need to compare, in the later questions we will use a different procedure which can ensure that over X datas and y datas are the same. i.e. we will simulate the data before our procedure begins."
   ]
  },
  {
   "cell_type": "code",
   "execution_count": 147,
   "metadata": {},
   "outputs": [],
   "source": [
    "def minibatch_procedure( X, y,true_beta, dim,num_batch=1, decay=-0.5, eta=0.01,beta_init=None):\n",
    "    sgd=mn_sgd(dim, num_batch, decay, eta,beta_init)\n",
    "    n=X.shape[0]\n",
    "    k=np.int(n/num_batch)\n",
    "    for i in range(k):\n",
    "        up=(i+1)*num_batch\n",
    "        low=i*num_batch\n",
    "        index=range(low,up)\n",
    "        sgd.trc_beta_update(X[index,:],y[index])\n",
    "        sgd.loss_update(true_beta)\n",
    "    return sgd.loss"
   ]
  },
  {
   "cell_type": "code",
   "execution_count": 148,
   "metadata": {},
   "outputs": [],
   "source": [
    "#Generate the data.\n",
    "ds = DataSimulator(10)\n",
    "X,y=ds.sim_data(m=10000)"
   ]
  },
  {
   "cell_type": "code",
   "execution_count": 149,
   "metadata": {},
   "outputs": [
    {
     "data": {
      "text/plain": [
       "<matplotlib.legend.Legend at 0x16b6fa3ccc0>"
      ]
     },
     "execution_count": 149,
     "metadata": {},
     "output_type": "execute_result"
    },
    {
     "data": {
      "image/png": "[encoded data removed]",
      "text/plain": [
       "<Figure size 432x288 with 1 Axes>"
      ]
     },
     "metadata": {
      "needs_background": "light"
     },
     "output_type": "display_data"
    }
   ],
   "source": [
    "loss={}\n",
    "loss[\"1b,-1d,0.01e\"]=minibatch_procedure( X, y,ds.beta, 10,num_batch=1, decay=-1, eta=0.01,beta_init=None)\n",
    "loss[\"1b,-0.5d,0.01e\"]=minibatch_procedure( X, y,ds.beta, 10,num_batch=1, decay=-0.5, eta=0.01,beta_init=None)\n",
    "plt.plot(loss[\"1b,-1d,0.01e\"],label=\"decay=-1\")\n",
    "plt.plot(loss[\"1b,-0.5d,0.01e\"],label=\"decay=-0.5\")\n",
    "plt.legend()"
   ]
  },
  {
   "cell_type": "markdown",
   "metadata": {},
   "source": [
    "Obviously, the $\\eta_t \\propto t^{-\\frac12}$ one has a smaller loss."
   ]
  },
  {
   "cell_type": "markdown",
   "metadata": {},
   "source": [
    "##  3.3. Vary the minibatch size to see the change in performance, with the best learning schedule from 2. When you compare two methods, make sure that you compare them with the same amount of data accessed (so use 1:10 ratio of iterations if you are comparing a minibatch ratio of 10:1)."
   ]
  },
  {
   "cell_type": "markdown",
   "metadata": {},
   "source": [
    "Apply decay$=-\\frac12$"
   ]
  },
  {
   "cell_type": "code",
   "execution_count": 152,
   "metadata": {},
   "outputs": [
    {
     "data": {
      "image/png": "[encoded data removed]",
      "text/plain": [
       "<Figure size 1440x720 with 9 Axes>"
      ]
     },
     "metadata": {
      "needs_background": "light"
     },
     "output_type": "display_data"
    }
   ],
   "source": [
    "para= (1,5,10,20,50,100,200,500,1000)\n",
    "for i in para:    \n",
    "    loss[str(i)+\"b,-0.5d,0.01e\"]=minibatch_procedure(X,y,ds.beta,10,num_batch=i, decay=-0.5, eta=0.01,beta_init=None)\n",
    "plt.figure(figsize=(20,10))\n",
    "for i in range(9):\n",
    "    j=i+1\n",
    "    plt.subplot(3,3,j)\n",
    "    plt.plot(loss[str(para[i])+\"b,-0.5d,0.01e\"],label=\"Batch Size=\"+str(para[i]))\n",
    "    plt.ylim(1.8,2.8)\n",
    "    plt.legend()"
   ]
  },
  {
   "cell_type": "markdown",
   "metadata": {},
   "source": [
    "<p>\n",
    "   With the same data (of course the amounts are same), the batch with smaller size can help us get a smaller loss.\n",
    "</p>"
   ]
  },
  {
   "cell_type": "markdown",
   "metadata": {},
   "source": [
    "## 3.4. Redo 2, 3 with ``noise_dis`` set to ``\"chisquare\"``."
   ]
  },
  {
   "cell_type": "code",
   "execution_count": 153,
   "metadata": {},
   "outputs": [],
   "source": [
    "#Generate the data with chisquare. Same amount and same variables.\n",
    "ds = DataSimulator(10,noise_dist=\"chisquare\")\n",
    "X,y=ds.sim_data(m=10000)"
   ]
  },
  {
   "cell_type": "markdown",
   "metadata": {},
   "source": [
    "### Redo 3.2 we can find that the result is same. We choose decay$=\\frac12$"
   ]
  },
  {
   "cell_type": "code",
   "execution_count": 154,
   "metadata": {},
   "outputs": [
    {
     "data": {
      "text/plain": [
       "<matplotlib.legend.Legend at 0x16b6cbd5e10>"
      ]
     },
     "execution_count": 154,
     "metadata": {},
     "output_type": "execute_result"
    },
    {
     "data": {
      "image/png": "[encoded data removed]",
      "text/plain": [
       "<Figure size 432x288 with 1 Axes>"
      ]
     },
     "metadata": {
      "needs_background": "light"
     },
     "output_type": "display_data"
    }
   ],
   "source": [
    "loss={}\n",
    "loss[\"1b,-1d,0.01e\"]=minibatch_procedure( X, y,ds.beta, 10,num_batch=1, decay=-1, eta=0.01,beta_init=None)\n",
    "loss[\"1b,-0.5d,0.01e\"]=minibatch_procedure( X, y,ds.beta, 10,num_batch=1, decay=-0.5, eta=0.01,beta_init=None)\n",
    "plt.plot(loss[\"1b,-1d,0.01e\"],label=\"decay=-1\")\n",
    "plt.plot(loss[\"1b,-0.5d,0.01e\"],label=\"decay=-0.5\")\n",
    "plt.legend()"
   ]
  },
  {
   "cell_type": "markdown",
   "metadata": {},
   "source": [
    "### Redo 3.3, again we can find that  with the same data (of course the amounts are same), the batch with smaller size can help us get a smaller loss."
   ]
  },
  {
   "cell_type": "code",
   "execution_count": 156,
   "metadata": {},
   "outputs": [
    {
     "data": {
      "image/png": "[encoded data removed]",
      "text/plain": [
       "<Figure size 1440x720 with 9 Axes>"
      ]
     },
     "metadata": {
      "needs_background": "light"
     },
     "output_type": "display_data"
    }
   ],
   "source": [
    "para= (1,5,10,20,50,100,200,500,1000)\n",
    "for i in para:    \n",
    "    loss[str(i)+\"b,-0.5d,0.01e\"]=minibatch_procedure(X,y,ds.beta,10,num_batch=i, decay=-0.5, eta=0.01,beta_init=None)\n",
    "plt.figure(figsize=(20,10))\n",
    "for i in range(9):\n",
    "    j=i+1\n",
    "    plt.subplot(3,3,j)\n",
    "    plt.plot(loss[str(para[i])+\"b,-0.5d,0.01e\"],label=\"Batch Size=\"+str(para[i]))\n",
    "    plt.ylim(2.4,3.2)\n",
    "    plt.legend()"
   ]
  },
  {
   "cell_type": "markdown",
   "metadata": {},
   "source": [
    "__Exercise 4.__ (50 pts) \n",
    "\n",
    "Text data can be converted into vector data through a vectorization operation.  A corpus is a collection of documents and the dictionary is all of the words in the corpus.  Bag-of-words models will treat each document as a set of words, ignoring the order of the words.  Then a simple vectorizer will let $X_{i,j}$ be the number of times the $j$th word is in the $i$th document.  Two vectorizers are ``sklearn.feature_extraction.text.CountVectorizer`` and ``sklearn.feature_extraction.text.TfidfVectorizer``.\n",
    "\n",
    "Below is an import of a reuters dataset.  I have written a def to process a single file.  Construct a response variable that has three categories, if the topic is 'earn', 'acq', or another category.  Import all of the data and construct two sparse vectorized matrices---look at ``scipy.sparse``---based on the two above vectorizations.  Use sklearn svm.SVC on the TRAIN split and predict on the TEST split.  Plot your ROC and PR curves for predicting 'earn' (versus everything else); tune the kernel and C parameters.  Do the same for predicting 'acq' versus everything else.  Write a paragraph summarizing the performance and tuning."
   ]
  },
  {
   "cell_type": "code",
   "execution_count": 12,
   "metadata": {},
   "outputs": [],
   "source": [
    "from lxml import html, etree"
   ]
  },
  {
   "cell_type": "code",
   "execution_count": 13,
   "metadata": {
    "collapsed": true
   },
   "outputs": [],
   "source": [
    "reu = html.parse(\"reuters/reut2-000.sgm\") #You will have to do this for all sgm files here"
   ]
  },
  {
   "cell_type": "code",
   "execution_count": 14,
   "metadata": {},
   "outputs": [],
   "source": [
    "import nltk\n",
    "#nltk.download()\n",
    "# Download Corpora -> stopwords, Models -> punkt\n",
    "\n",
    "from nltk.corpus import stopwords\n",
    "from nltk.tokenize import word_tokenize"
   ]
  },
  {
   "cell_type": "code",
   "execution_count": 11,
   "metadata": {},
   "outputs": [],
   "source": [
    "from sklearn import neighbors, preprocessing, impute, metrics, model_selection, linear_model, svm, feature_selection\n",
    "import matplotlib as mpl\n",
    "import plotnine as p9\n",
    "import matplotlib.pyplot as plt"
   ]
  },
  {
   "cell_type": "code",
   "execution_count": 31,
   "metadata": {},
   "outputs": [],
   "source": [
    "SVC=svm.SVC"
   ]
  },
  {
   "cell_type": "code",
   "execution_count": 15,
   "metadata": {},
   "outputs": [],
   "source": [
    "def parse_reu(reu):\n",
    "    \"\"\"Parses the etree object and returns a list of dictionary of reuters attr\n",
    "    Output: {'topics': the topic of the article, 'places': where it is located, \n",
    "        'split': training/test split, 'body':the text of the article as a set of words with stopwords removed}\n",
    "    \"\"\"\n",
    "    root= reu.getroot()\n",
    "    articles = root.body.getchildren()\n",
    "    stop_words = set(stopwords.words('english'))\n",
    "    reu_pl = []\n",
    "    for a in articles:\n",
    "        reu_parse = {}\n",
    "        if a.attrib['topics'] != 'YES':\n",
    "            next\n",
    "        topics = a.find('topics').findall('d')\n",
    "        if topics:\n",
    "            reu_parse['topics'] = [t.text for t in topics]\n",
    "        else:\n",
    "            reu_parse['topics'] = []\n",
    "        places = a.find('places').findall('d')\n",
    "        if places:\n",
    "            reu_parse['places'] = [t.text for t in places]\n",
    "        reu_parse['split'] = a.attrib['lewissplit']\n",
    "        rtxt = a.find('text')\n",
    "        word_tokens = word_tokenize(rtxt.text_content())\n",
    "        filtered_sentence = set([w.lower() for w in word_tokens if not w in stop_words])\n",
    "        reu_parse['body'] = filtered_sentence\n",
    "        reu_pl.append(reu_parse)\n",
    "    return reu_pl"
   ]
  },
  {
   "cell_type": "code",
   "execution_count": 17,
   "metadata": {},
   "outputs": [],
   "source": [
    "from sklearn import feature_extraction as fe\n",
    "#loading the document names\n",
    "reu_names=[]\n",
    "for i in range(22):\n",
    "    string=str('reuters/reut2-'+str(i).zfill(3)+'.sgm')\n",
    "    reu_names.append(string)\n",
    "#loading the files\n",
    "reu=[]\n",
    "for i in range(22):\n",
    "    reu_single=html.parse(reu_names[i])\n",
    "    reu.append(reu_single)\n",
    "#turn everything from html to regular texts\n",
    "reu_pl=[]\n",
    "for i in range(22):\n",
    "    reu_pl.append(parse_reu(reu[i]))\n",
    "#Get the index of each corpus\n",
    "index=[]\n",
    "for i in range(22):\n",
    "    reu_handle=reu_pl[i]\n",
    "    index.append(len(reu_pl[i]))\n",
    "#And we can see the 1-21 indices are lenth 1000.    "
   ]
  },
  {
   "cell_type": "code",
   "execution_count": 18,
   "metadata": {},
   "outputs": [],
   "source": [
    "reu_body_index=[]\n",
    "for i in range(22):\n",
    "    for j in range(index[i]):\n",
    "        reu_body_index.append([i,j])\n",
    "#Get the body parts of each documents in k[1]th documents of k[0]th corpus \n",
    "reu_body=[]\n",
    "for k in reu_body_index:\n",
    "    reu_body.append(list(reu_pl[k[0]][k[1]][\"body\"]))"
   ]
  },
  {
   "cell_type": "code",
   "execution_count": 19,
   "metadata": {},
   "outputs": [],
   "source": [
    "#rebuild the data sets, so that one documents can line in the same row in the matrix we construct latter.\n",
    "reu_body_combine=[]\n",
    "for k in range(len(reu_body)):\n",
    "    reu_body_combine.append(\" \".join(reu_body[k]))"
   ]
  },
  {
   "cell_type": "code",
   "execution_count": 92,
   "metadata": {},
   "outputs": [],
   "source": [
    "#get the train index in jth documents, and ith corpus.\n",
    "train_index=[]\n",
    "for i in range(22):\n",
    "    for j in range(index[i]):\n",
    "        if reu_pl[i][j][\"split\"]!=\"TEST\":\n",
    "            train_index.append([i,j])\n",
    "#get the train row index in the Xmatrix\n",
    "train_row_index=[]\n",
    "for k in train_index:\n",
    "    train_row_index.append(1000*k[0]+k[1])\n",
    "#get the test index in jth documents of ith corpus\n",
    "test_index=[]\n",
    "for i in range(22):\n",
    "    for j in range(index[i]):\n",
    "        if reu_pl[i][j][\"split\"]==\"TEST\":\n",
    "            test_index.append([i,j])\n",
    "#get the train rows index:\n",
    "test_row_index=[]\n",
    "for k in test_index:\n",
    "    test_row_index.append(1000*k[0]+k[1])"
   ]
  },
  {
   "cell_type": "code",
   "execution_count": 93,
   "metadata": {},
   "outputs": [
    {
     "data": {
      "text/plain": [
       "15390"
      ]
     },
     "execution_count": 93,
     "metadata": {},
     "output_type": "execute_result"
    }
   ],
   "source": [
    "len(train_index)"
   ]
  },
  {
   "cell_type": "code",
   "execution_count": 98,
   "metadata": {},
   "outputs": [],
   "source": [
    "#generate y\n",
    "y_earn=[]\n",
    "for i in range(22):\n",
    "    for j in range(index[i]):\n",
    "        if reu_pl[i][j][\"topics\"]==[\"earn\"]:\n",
    "            y_earn.append(1)\n",
    "        else:\n",
    "            y_earn.append(0)\n",
    "y_acq=[]\n",
    "for i in range(22):\n",
    "    for j in range(index[i]):\n",
    "        if reu_pl[i][j][\"topics\"]==[\"acq\"]:\n",
    "            y_acq.append(1)\n",
    "        else:\n",
    "            y_acq.append(0)\n",
    "y=np.array([y_earn,y_acq]).T\n",
    "y_train=y[train_row_index]\n",
    "y_test=y[test_row_index]"
   ]
  },
  {
   "cell_type": "code",
   "execution_count": 99,
   "metadata": {},
   "outputs": [],
   "source": [
    "#Save the models:\n",
    "classifier_linear={}\n",
    "classifier_rbf={}\n",
    "classifier_poly={}\n",
    "classifier_sigmoid={}"
   ]
  },
  {
   "cell_type": "code",
   "execution_count": 100,
   "metadata": {},
   "outputs": [],
   "source": [
    "for i in (0.1,0.2,0.5,0.8,1,2):\n",
    "    classifier_linear[i] = SVC(C=i, kernel = 'linear', random_state=1)\n",
    "    classifier_rbf[i]=SVC(C=i, kernel = \"rbf\", random_state=1)\n",
    "    classifier_poly[i]=SVC(C=i, kernel = \"poly\", random_state=1)\n",
    "    classifier_sigmoid[i]=SVC(C=i, kernel= \"sigmoid\", random_state=1)"
   ]
  },
  {
   "cell_type": "markdown",
   "metadata": {},
   "source": [
    "# 4.1. Countvectorizer"
   ]
  },
  {
   "cell_type": "code",
   "execution_count": 101,
   "metadata": {},
   "outputs": [],
   "source": [
    "cv=fe.text.CountVectorizer()"
   ]
  },
  {
   "cell_type": "code",
   "execution_count": 102,
   "metadata": {},
   "outputs": [],
   "source": [
    "#We construct a matrix in this way.\n",
    "reu_matrix=cv.fit_transform(reu_body_combine)\n",
    "reu_train_matrix=reu_matrix[train_row_index,]\n",
    "reu_test_matrix=reu_matrix[test_row_index,]\n",
    "reu_trtrain_matrix,reu_trvalid_matrix,y_trtrain,y_trvalid=model_selection.train_test_split(reu_train_matrix,y_train,test_size=0.2)"
   ]
  },
  {
   "cell_type": "markdown",
   "metadata": {},
   "source": [
    "## 4.1.1 Earn: "
   ]
  },
  {
   "cell_type": "code",
   "execution_count": 103,
   "metadata": {},
   "outputs": [],
   "source": [
    "#fit the criterion \"earn\".\n",
    "for i in (0.1,0.2,0.5,0.8,1,2):\n",
    "    classifier_linear[i].fit(reu_trtrain_matrix,y_trtrain[:,0])\n",
    "    classifier_rbf[i].fit(reu_trtrain_matrix,y_trtrain[:,0])\n",
    "    classifier_poly[i].fit(reu_trtrain_matrix,y_trtrain[:,0])\n",
    "    classifier_sigmoid[i].fit(reu_trtrain_matrix,y_trtrain[:,0])"
   ]
  },
  {
   "cell_type": "code",
   "execution_count": 104,
   "metadata": {},
   "outputs": [],
   "source": [
    "#To check the fit result\n",
    "y_linear_fitresult={}\n",
    "y_rbf_fitresult={}\n",
    "y_poly_fitresult={}\n",
    "y_sigmoid_fitresult={}\n",
    "for i in (0.1,0.2,0.5,0.8,1,2):\n",
    "    y_linear_fitresult[i]=classifier_linear[i].predict(reu_trvalid_matrix)\n",
    "    y_rbf_fitresult[i]=classifier_rbf[i].predict(reu_trvalid_matrix)\n",
    "    y_poly_fitresult[i]=classifier_poly[i].predict(reu_trvalid_matrix)\n",
    "    y_sigmoid_fitresult[i]=classifier_sigmoid[i].predict(reu_trvalid_matrix)"
   ]
  },
  {
   "cell_type": "code",
   "execution_count": 105,
   "metadata": {},
   "outputs": [],
   "source": [
    "#Get the accuracy in each model.\n",
    "y_linear_accuracy={}\n",
    "y_rbf_accuracy={}\n",
    "y_poly_accuracy={}\n",
    "y_sigmoid_accuracy={}\n",
    "for i in (0.1,0.2,0.5,0.8,1,2):\n",
    "    y_linear_accuracy[i]=metrics.accuracy_score(y_trvalid[:,0],y_linear_fitresult[i])\n",
    "    y_rbf_accuracy[i]=metrics.accuracy_score(y_trvalid[:,0],y_rbf_fitresult[i])\n",
    "    y_poly_accuracy[i]=metrics.accuracy_score(y_trvalid[:,0],y_poly_fitresult[i])\n",
    "    y_sigmoid_accuracy[i]=metrics.accuracy_score(y_trvalid[:,0],y_sigmoid_fitresult[i])"
   ]
  },
  {
   "cell_type": "code",
   "execution_count": 106,
   "metadata": {},
   "outputs": [
    {
     "name": "stdout",
     "output_type": "stream",
     "text": [
      "linear: {0.1: 0.9743339831059129, 0.2: 0.9746588693957114, 0.5: 0.9730344379467186, 0.8: 0.9727095516569201, 1: 0.9730344379467186, 2: 0.9720597790773229}\n",
      "rbf: {0.1: 0.817738791423002, 0.2: 0.817738791423002, 0.5: 0.817738791423002, 0.8: 0.8180636777128005, 1: 0.8219623131903834, 2: 0.8674463937621832}\n",
      "poly: {0.1: 0.817738791423002, 0.2: 0.817738791423002, 0.5: 0.817738791423002, 0.8: 0.817738791423002, 1: 0.817738791423002, 2: 0.817738791423002}\n",
      "sigmoid: {0.1: 0.817738791423002, 0.2: 0.817738791423002, 0.5: 0.817738791423002, 0.8: 0.817738791423002, 1: 0.817738791423002, 2: 0.8222871994801819}\n"
     ]
    }
   ],
   "source": [
    "print(\"linear: \"+str(y_linear_accuracy))\n",
    "print(\"rbf: \"+str(y_rbf_accuracy))\n",
    "print(\"poly: \"+str(y_poly_accuracy))\n",
    "print(\"sigmoid: \"+str(y_sigmoid_accuracy))"
   ]
  },
  {
   "cell_type": "markdown",
   "metadata": {},
   "source": [
    "__As we can see that, when C=0.2 in linear kernel, we get the most accurate one.__(At this point I turn to write the 3rd problem, that is why it is 106 cell.)"
   ]
  },
  {
   "cell_type": "markdown",
   "metadata": {},
   "source": [
    "## We choose kernel=\"linear\" with C=0.2"
   ]
  },
  {
   "cell_type": "code",
   "execution_count": 49,
   "metadata": {},
   "outputs": [],
   "source": [
    "from sklearn.metrics import precision_recall_curve\n",
    "from sklearn.metrics import average_precision_score"
   ]
  },
  {
   "cell_type": "code",
   "execution_count": 166,
   "metadata": {},
   "outputs": [
    {
     "data": {
      "text/plain": [
       "<matplotlib.legend.Legend at 0x16b66eaffd0>"
      ]
     },
     "execution_count": 166,
     "metadata": {},
     "output_type": "execute_result"
    },
    {
     "data": {
      "image/png": "[encoded data removed]",
      "text/plain": [
       "<Figure size 432x288 with 1 Axes>"
      ]
     },
     "metadata": {
      "needs_background": "light"
     },
     "output_type": "display_data"
    }
   ],
   "source": [
    "y_pred=classifier_linear[0.2].predict(reu_test_matrix)\n",
    "y_scores=classifier_linear[0.2].decision_function(reu_test_matrix)\n",
    "roc_curve=metrics.roc_curve(y_test[:,0],y_scores)\n",
    "plt.plot(roc_curve[0],roc_curve[1],label=\"Linear, C=0.2\")\n",
    "plt.xlabel('FPR')\n",
    "plt.ylabel('TPR')\n",
    "plt.title(\"ROC Curve\")\n",
    "plt.legend()"
   ]
  },
  {
   "cell_type": "code",
   "execution_count": 167,
   "metadata": {},
   "outputs": [
    {
     "data": {
      "text/plain": [
       "Text(0.5, 1.0, 'PR Curve')"
      ]
     },
     "execution_count": 167,
     "metadata": {},
     "output_type": "execute_result"
    },
    {
     "data": {
      "image/png": "[encoded data removed]",
      "text/plain": [
       "<Figure size 432x288 with 1 Axes>"
      ]
     },
     "metadata": {
      "needs_background": "light"
     },
     "output_type": "display_data"
    }
   ],
   "source": [
    "precision, recall, _ = precision_recall_curve(y_test[:,0], y_scores)\n",
    "#average_precision = average_precision_score(y_test[:,0], y_scores)\n",
    "plt.figure()\n",
    "plt.step(recall, precision, color='b', alpha=0.8,\n",
    "         where='post')\n",
    "plt.fill_between(recall, precision, alpha=0.2)\n",
    "\n",
    "plt.xlabel('Recall')\n",
    "plt.ylabel('Precision')\n",
    "plt.ylim([0.0, 1.05])\n",
    "plt.xlim([0.0, 1.0])\n",
    "plt.title(\"PR Curve\")"
   ]
  },
  {
   "cell_type": "code",
   "execution_count": 168,
   "metadata": {},
   "outputs": [
    {
     "name": "stdout",
     "output_type": "stream",
     "text": [
      "Accuracy: 0.9167744020685197\n",
      "F1 Score: 0.8013883532587737\n",
      "AUC: 0.9591507709747944\n"
     ]
    }
   ],
   "source": [
    "#Calculate the AUC score.\n",
    "print(\"Accuracy: \"+str(metrics.accuracy_score(y_test[:,0],y_pred)))\n",
    "print(\"F1 Score: \"+str(metrics.f1_score(y_test[:,0],y_pred)))\n",
    "print(\"AUC: \"+str(metrics.auc(roc_curve[0],roc_curve[1])))"
   ]
  },
  {
   "cell_type": "markdown",
   "metadata": {},
   "source": [
    "## 4.1.2 acq: "
   ]
  },
  {
   "cell_type": "code",
   "execution_count": 169,
   "metadata": {},
   "outputs": [
    {
     "name": "stderr",
     "output_type": "stream",
     "text": [
      "C:\\ProgramData\\Anaconda3\\lib\\site-packages\\sklearn\\svm\\base.py:196: FutureWarning: The default value of gamma will change from 'auto' to 'scale' in version 0.22 to account better for unscaled features. Set gamma explicitly to 'auto' or 'scale' to avoid this warning.\n",
      "  \"avoid this warning.\", FutureWarning)\n"
     ]
    }
   ],
   "source": [
    "#fit the criterion \"acq\".\n",
    "for i in (0.1,0.2,0.5,0.8,1,2):\n",
    "    classifier_linear[i].fit(reu_trtrain_matrix,y_trtrain[:,1])\n",
    "    classifier_rbf[i].fit(reu_trtrain_matrix,y_trtrain[:,1])\n",
    "    classifier_poly[i].fit(reu_trtrain_matrix,y_trtrain[:,1])\n",
    "    classifier_sigmoid[i].fit(reu_trtrain_matrix,y_trtrain[:,1])"
   ]
  },
  {
   "cell_type": "code",
   "execution_count": 170,
   "metadata": {},
   "outputs": [],
   "source": [
    "#To check the fit result\n",
    "y_linear_fitresult={}\n",
    "y_rbf_fitresult={}\n",
    "y_poly_fitresult={}\n",
    "y_sigmoid_fitresult={}\n",
    "for i in (0.1,0.2,0.5,0.8,1,2):\n",
    "    y_linear_fitresult[i]=classifier_linear[i].predict(reu_trvalid_matrix)\n",
    "    y_rbf_fitresult[i]=classifier_rbf[i].predict(reu_trvalid_matrix)\n",
    "    y_poly_fitresult[i]=classifier_poly[i].predict(reu_trvalid_matrix)\n",
    "    y_sigmoid_fitresult[i]=classifier_sigmoid[i].predict(reu_trvalid_matrix)"
   ]
  },
  {
   "cell_type": "code",
   "execution_count": 171,
   "metadata": {},
   "outputs": [],
   "source": [
    "#Get the accuracy in each model.\n",
    "y_linear_accuracy={}\n",
    "y_rbf_accuracy={}\n",
    "y_poly_accuracy={}\n",
    "y_sigmoid_accuracy={}\n",
    "for i in (0.1,0.2,0.5,0.8,1,2):\n",
    "    y_linear_accuracy[i]=metrics.accuracy_score(y_trvalid[:,1],y_linear_fitresult[i])\n",
    "    y_rbf_accuracy[i]=metrics.accuracy_score(y_trvalid[:,1],y_rbf_fitresult[i])\n",
    "    y_poly_accuracy[i]=metrics.accuracy_score(y_trvalid[:,1],y_poly_fitresult[i])\n",
    "    y_sigmoid_accuracy[i]=metrics.accuracy_score(y_trvalid[:,1],y_sigmoid_fitresult[i])"
   ]
  },
  {
   "cell_type": "code",
   "execution_count": 172,
   "metadata": {},
   "outputs": [
    {
     "name": "stdout",
     "output_type": "stream",
     "text": [
      "linear: {0.1: 0.96816114359974, 0.2: 0.9658869395711501, 0.5: 0.9652371669915529, 0.8: 0.9658869395711501, 1: 0.9655620532813515, 2: 0.9642625081221572}\n",
      "rbf: {0.1: 0.8898635477582846, 0.2: 0.8898635477582846, 0.5: 0.8898635477582846, 0.8: 0.8898635477582846, 1: 0.8898635477582846, 2: 0.8898635477582846}\n",
      "poly: {0.1: 0.8898635477582846, 0.2: 0.8898635477582846, 0.5: 0.8898635477582846, 0.8: 0.8898635477582846, 1: 0.8898635477582846, 2: 0.8898635477582846}\n",
      "sigmoid: {0.1: 0.8898635477582846, 0.2: 0.8898635477582846, 0.5: 0.8898635477582846, 0.8: 0.8898635477582846, 1: 0.8898635477582846, 2: 0.8898635477582846}\n"
     ]
    }
   ],
   "source": [
    "print(\"linear: \"+str(y_linear_accuracy))\n",
    "print(\"rbf: \"+str(y_rbf_accuracy))\n",
    "print(\"poly: \"+str(y_poly_accuracy))\n",
    "print(\"sigmoid: \"+str(y_sigmoid_accuracy))"
   ]
  },
  {
   "cell_type": "markdown",
   "metadata": {},
   "source": [
    "__As we can see that, when C=0.1 in linear kernel, we get the most accurate one.__"
   ]
  },
  {
   "cell_type": "markdown",
   "metadata": {},
   "source": [
    "## We choose kernel=\"linear\" with C=0.1"
   ]
  },
  {
   "cell_type": "code",
   "execution_count": 173,
   "metadata": {},
   "outputs": [
    {
     "data": {
      "text/plain": [
       "<matplotlib.legend.Legend at 0x16b6d14bdd8>"
      ]
     },
     "execution_count": 173,
     "metadata": {},
     "output_type": "execute_result"
    },
    {
     "data": {
      "image/png": "[encoded data removed]",
      "text/plain": [
       "<Figure size 432x288 with 1 Axes>"
      ]
     },
     "metadata": {
      "needs_background": "light"
     },
     "output_type": "display_data"
    }
   ],
   "source": [
    "y_pred=classifier_linear[0.1].predict(reu_test_matrix)\n",
    "y_scores=classifier_linear[0.1].decision_function(reu_test_matrix)\n",
    "roc_curve=metrics.roc_curve(y_test[:,1],y_scores)\n",
    "plt.plot(roc_curve[0],roc_curve[1],label=\"Linear, C=0.1\")\n",
    "plt.xlabel('FPR')\n",
    "plt.ylabel('TPR')\n",
    "plt.title(\"ROC Curve\")\n",
    "plt.legend()"
   ]
  },
  {
   "cell_type": "code",
   "execution_count": 175,
   "metadata": {},
   "outputs": [
    {
     "data": {
      "text/plain": [
       "Text(0.5, 1.0, 'PR Curve')"
      ]
     },
     "execution_count": 175,
     "metadata": {},
     "output_type": "execute_result"
    },
    {
     "data": {
      "image/png": "[encoded data removed]",
      "text/plain": [
       "<Figure size 432x288 with 1 Axes>"
      ]
     },
     "metadata": {
      "needs_background": "light"
     },
     "output_type": "display_data"
    }
   ],
   "source": [
    "precision, recall, _ = precision_recall_curve(y_test[:,1], y_scores)\n",
    "#average_precision = average_precision_score(y_test[:,1], y_scores)\n",
    "plt.figure()\n",
    "plt.step(recall, precision, color='b', alpha=0.8,\n",
    "         where='post')\n",
    "plt.fill_between(recall, precision, alpha=0.2)\n",
    "\n",
    "plt.xlabel('Recall')\n",
    "plt.ylabel('Precision')\n",
    "plt.ylim([0.0, 1.05])\n",
    "plt.xlim([0.0, 1.0])\n",
    "plt.title(\"PR Curve\")"
   ]
  },
  {
   "cell_type": "code",
   "execution_count": 176,
   "metadata": {},
   "outputs": [
    {
     "name": "stdout",
     "output_type": "stream",
     "text": [
      "Accuracy: 0.9589528118939884\n",
      "F1 Score: 0.8180515759312321\n",
      "AUC: 0.972361836652686\n"
     ]
    }
   ],
   "source": [
    "#Calculate the AUC score.\n",
    "print(\"Accuracy: \"+str(metrics.accuracy_score(y_test[:,1],y_pred)))\n",
    "print(\"F1 Score: \"+str(metrics.f1_score(y_test[:,1],y_pred)))\n",
    "print(\"AUC: \"+str(metrics.auc(roc_curve[0],roc_curve[1])))"
   ]
  },
  {
   "cell_type": "markdown",
   "metadata": {},
   "source": [
    "# 4.2. TfidfVectorizer"
   ]
  },
  {
   "cell_type": "code",
   "execution_count": 60,
   "metadata": {},
   "outputs": [],
   "source": [
    "tv=fe.text.TfidfVectorizer()"
   ]
  },
  {
   "cell_type": "code",
   "execution_count": 177,
   "metadata": {},
   "outputs": [],
   "source": [
    "#We construct a matrix in this way.\n",
    "reu_matrix=tv.fit_transform(reu_body_combine)\n",
    "reu_train_matrix=reu_matrix[train_row_index,]\n",
    "reu_test_matrix=reu_matrix[test_row_index,]\n",
    "reu_trtrain_matrix,reu_trvalid_matrix,y_trtrain,y_trvalid=model_selection.train_test_split(reu_train_matrix,y_train,test_size=0.2)"
   ]
  },
  {
   "cell_type": "markdown",
   "metadata": {},
   "source": [
    "## 4.2.1 Earn: "
   ]
  },
  {
   "cell_type": "code",
   "execution_count": 178,
   "metadata": {},
   "outputs": [],
   "source": [
    "#fit the criterion \"earn\".\n",
    "for i in (0.1,0.2,0.5,0.8,1,2):\n",
    "    classifier_linear[i].fit(reu_trtrain_matrix,y_trtrain[:,0])\n",
    "    classifier_rbf[i].fit(reu_trtrain_matrix,y_trtrain[:,0])\n",
    "    classifier_poly[i].fit(reu_trtrain_matrix,y_trtrain[:,0])\n",
    "    classifier_sigmoid[i].fit(reu_trtrain_matrix,y_trtrain[:,0])"
   ]
  },
  {
   "cell_type": "code",
   "execution_count": 179,
   "metadata": {},
   "outputs": [],
   "source": [
    "#To check the fit result\n",
    "y_linear_fitresult={}\n",
    "y_rbf_fitresult={}\n",
    "y_poly_fitresult={}\n",
    "y_sigmoid_fitresult={}\n",
    "for i in (0.1,0.2,0.5,0.8,1,2):\n",
    "    y_linear_fitresult[i]=classifier_linear[i].predict(reu_trvalid_matrix)\n",
    "    y_rbf_fitresult[i]=classifier_rbf[i].predict(reu_trvalid_matrix)\n",
    "    y_poly_fitresult[i]=classifier_poly[i].predict(reu_trvalid_matrix)\n",
    "    y_sigmoid_fitresult[i]=classifier_sigmoid[i].predict(reu_trvalid_matrix)"
   ]
  },
  {
   "cell_type": "code",
   "execution_count": 180,
   "metadata": {},
   "outputs": [],
   "source": [
    "#Get the accuracy in each model.\n",
    "y_linear_accuracy={}\n",
    "y_rbf_accuracy={}\n",
    "y_poly_accuracy={}\n",
    "y_sigmoid_accuracy={}\n",
    "for i in (0.1,0.2,0.5,0.8,1,2):\n",
    "    y_linear_accuracy[i]=metrics.accuracy_score(y_trvalid[:,0],y_linear_fitresult[i])\n",
    "    y_rbf_accuracy[i]=metrics.accuracy_score(y_trvalid[:,0],y_rbf_fitresult[i])\n",
    "    y_poly_accuracy[i]=metrics.accuracy_score(y_trvalid[:,0],y_poly_fitresult[i])\n",
    "    y_sigmoid_accuracy[i]=metrics.accuracy_score(y_trvalid[:,0],y_sigmoid_fitresult[i])"
   ]
  },
  {
   "cell_type": "code",
   "execution_count": 181,
   "metadata": {},
   "outputs": [
    {
     "name": "stdout",
     "output_type": "stream",
     "text": [
      "linear: {0.1: 0.9665367121507472, 0.2: 0.9704353476283301, 0.5: 0.9801819363222872, 0.8: 0.9814814814814815, 1: 0.9821312540610786, 2: 0.9821312540610786}\n",
      "rbf: {0.1: 0.8245614035087719, 0.2: 0.8245614035087719, 0.5: 0.8245614035087719, 0.8: 0.8245614035087719, 1: 0.8245614035087719, 2: 0.8245614035087719}\n",
      "poly: {0.1: 0.8245614035087719, 0.2: 0.8245614035087719, 0.5: 0.8245614035087719, 0.8: 0.8245614035087719, 1: 0.8245614035087719, 2: 0.8245614035087719}\n",
      "sigmoid: {0.1: 0.8245614035087719, 0.2: 0.8245614035087719, 0.5: 0.8245614035087719, 0.8: 0.8245614035087719, 1: 0.8245614035087719, 2: 0.8245614035087719}\n"
     ]
    }
   ],
   "source": [
    "print(\"linear: \"+str(y_linear_accuracy))\n",
    "print(\"rbf: \"+str(y_rbf_accuracy))\n",
    "print(\"poly: \"+str(y_poly_accuracy))\n",
    "print(\"sigmoid: \"+str(y_sigmoid_accuracy))"
   ]
  },
  {
   "cell_type": "markdown",
   "metadata": {},
   "source": [
    "__As we can see that, when C=1 and 2 in linear kernel, we get the most accurate one.__"
   ]
  },
  {
   "cell_type": "markdown",
   "metadata": {},
   "source": [
    "## We choose kernel=\"linear\" with C=2"
   ]
  },
  {
   "cell_type": "code",
   "execution_count": 185,
   "metadata": {},
   "outputs": [
    {
     "data": {
      "text/plain": [
       "<matplotlib.legend.Legend at 0x16b567dae80>"
      ]
     },
     "execution_count": 185,
     "metadata": {},
     "output_type": "execute_result"
    },
    {
     "data": {
      "image/png": "[encoded data removed]",
      "text/plain": [
       "<Figure size 432x288 with 1 Axes>"
      ]
     },
     "metadata": {
      "needs_background": "light"
     },
     "output_type": "display_data"
    }
   ],
   "source": [
    "y_pred=classifier_linear[2].predict(reu_test_matrix)\n",
    "y_scores=classifier_linear[2].decision_function(reu_test_matrix)\n",
    "roc_curve=metrics.roc_curve(y_test[:,0],y_scores)\n",
    "plt.plot(roc_curve[0],roc_curve[1],label=\"Linear, C=2\")\n",
    "plt.xlabel('FPR')\n",
    "plt.ylabel('TPR')\n",
    "plt.title(\"ROC Curve\")\n",
    "plt.legend()"
   ]
  },
  {
   "cell_type": "code",
   "execution_count": 186,
   "metadata": {},
   "outputs": [
    {
     "data": {
      "text/plain": [
       "Text(0.5, 1.0, 'PR Curve')"
      ]
     },
     "execution_count": 186,
     "metadata": {},
     "output_type": "execute_result"
    },
    {
     "data": {
      "image/png": "[encoded data removed]",
      "text/plain": [
       "<Figure size 432x288 with 1 Axes>"
      ]
     },
     "metadata": {
      "needs_background": "light"
     },
     "output_type": "display_data"
    }
   ],
   "source": [
    "precision, recall, _ = precision_recall_curve(y_test[:,0], y_scores)\n",
    "#average_precision = average_precision_score(y_test[:,0], y_scores)\n",
    "plt.figure()\n",
    "plt.step(recall, precision, color='b', alpha=0.8,\n",
    "         where='post')\n",
    "plt.fill_between(recall, precision, alpha=0.2)\n",
    "\n",
    "plt.xlabel('Recall')\n",
    "plt.ylabel('Precision')\n",
    "plt.ylim([0.0, 1.05])\n",
    "plt.xlim([0.0, 1.0])\n",
    "plt.title(\"PR Curve\")"
   ]
  },
  {
   "cell_type": "code",
   "execution_count": 184,
   "metadata": {},
   "outputs": [
    {
     "name": "stdout",
     "output_type": "stream",
     "text": [
      "Accuracy: 0.9191984486102133\n",
      "F1 Score: 0.8066511987625676\n",
      "AUC: 0.9546150403706232\n"
     ]
    }
   ],
   "source": [
    "#Calculate the AUC score.\n",
    "print(\"Accuracy: \"+str(metrics.accuracy_score(y_test[:,0],y_pred)))\n",
    "print(\"F1 Score: \"+str(metrics.f1_score(y_test[:,0],y_pred)))\n",
    "print(\"AUC: \"+str(metrics.auc(roc_curve[0],roc_curve[1])))"
   ]
  },
  {
   "cell_type": "markdown",
   "metadata": {},
   "source": [
    "## 4.2.2 acq: "
   ]
  },
  {
   "cell_type": "code",
   "execution_count": 187,
   "metadata": {},
   "outputs": [],
   "source": [
    "#fit the criterion \"acq\".\n",
    "for i in (0.1,0.2,0.5,0.8,1,2):\n",
    "    classifier_linear[i].fit(reu_trtrain_matrix,y_trtrain[:,1])\n",
    "    classifier_rbf[i].fit(reu_trtrain_matrix,y_trtrain[:,1])\n",
    "    classifier_poly[i].fit(reu_trtrain_matrix,y_trtrain[:,1])\n",
    "    classifier_sigmoid[i].fit(reu_trtrain_matrix,y_trtrain[:,1])"
   ]
  },
  {
   "cell_type": "code",
   "execution_count": 188,
   "metadata": {},
   "outputs": [],
   "source": [
    "#To check the fit result\n",
    "y_linear_fitresult={}\n",
    "y_rbf_fitresult={}\n",
    "y_poly_fitresult={}\n",
    "y_sigmoid_fitresult={}\n",
    "for i in (0.1,0.2,0.5,0.8,1,2):\n",
    "    y_linear_fitresult[i]=classifier_linear[i].predict(reu_trvalid_matrix)\n",
    "    y_rbf_fitresult[i]=classifier_rbf[i].predict(reu_trvalid_matrix)\n",
    "    y_poly_fitresult[i]=classifier_poly[i].predict(reu_trvalid_matrix)\n",
    "    y_sigmoid_fitresult[i]=classifier_sigmoid[i].predict(reu_trvalid_matrix)"
   ]
  },
  {
   "cell_type": "code",
   "execution_count": 189,
   "metadata": {},
   "outputs": [],
   "source": [
    "#Get the accuracy in each model.\n",
    "y_linear_accuracy={}\n",
    "y_rbf_accuracy={}\n",
    "y_poly_accuracy={}\n",
    "y_sigmoid_accuracy={}\n",
    "for i in (0.1,0.2,0.5,0.8,1,2):\n",
    "    y_linear_accuracy[i]=metrics.accuracy_score(y_trvalid[:,1],y_linear_fitresult[i])\n",
    "    y_rbf_accuracy[i]=metrics.accuracy_score(y_trvalid[:,1],y_rbf_fitresult[i])\n",
    "    y_poly_accuracy[i]=metrics.accuracy_score(y_trvalid[:,1],y_poly_fitresult[i])\n",
    "    y_sigmoid_accuracy[i]=metrics.accuracy_score(y_trvalid[:,1],y_sigmoid_fitresult[i])"
   ]
  },
  {
   "cell_type": "code",
   "execution_count": 190,
   "metadata": {},
   "outputs": [
    {
     "name": "stdout",
     "output_type": "stream",
     "text": [
      "linear: {0.1: 0.9246263807667316, 0.2: 0.9567901234567902, 0.5: 0.9701104613385315, 0.8: 0.9701104613385315, 1: 0.9714100064977258, 2: 0.969785575048733}\n",
      "rbf: {0.1: 0.8947368421052632, 0.2: 0.8947368421052632, 0.5: 0.8947368421052632, 0.8: 0.8947368421052632, 1: 0.8947368421052632, 2: 0.8947368421052632}\n",
      "poly: {0.1: 0.8947368421052632, 0.2: 0.8947368421052632, 0.5: 0.8947368421052632, 0.8: 0.8947368421052632, 1: 0.8947368421052632, 2: 0.8947368421052632}\n",
      "sigmoid: {0.1: 0.8947368421052632, 0.2: 0.8947368421052632, 0.5: 0.8947368421052632, 0.8: 0.8947368421052632, 1: 0.8947368421052632, 2: 0.8947368421052632}\n"
     ]
    }
   ],
   "source": [
    "print(\"linear: \"+str(y_linear_accuracy))\n",
    "print(\"rbf: \"+str(y_rbf_accuracy))\n",
    "print(\"poly: \"+str(y_poly_accuracy))\n",
    "print(\"sigmoid: \"+str(y_sigmoid_accuracy))"
   ]
  },
  {
   "cell_type": "markdown",
   "metadata": {},
   "source": [
    "__As we can see that, when C=1 in linear kernel, we get the most accurate one.__"
   ]
  },
  {
   "cell_type": "markdown",
   "metadata": {},
   "source": [
    "## We choose kernel=\"linear\" with C=1"
   ]
  },
  {
   "cell_type": "code",
   "execution_count": 191,
   "metadata": {},
   "outputs": [
    {
     "data": {
      "text/plain": [
       "<matplotlib.legend.Legend at 0x16b7043fdd8>"
      ]
     },
     "execution_count": 191,
     "metadata": {},
     "output_type": "execute_result"
    },
    {
     "data": {
      "image/png": "[encoded data removed]",
      "text/plain": [
       "<Figure size 432x288 with 1 Axes>"
      ]
     },
     "metadata": {
      "needs_background": "light"
     },
     "output_type": "display_data"
    }
   ],
   "source": [
    "y_pred=classifier_linear[1].predict(reu_test_matrix)\n",
    "y_scores=classifier_linear[1].decision_function(reu_test_matrix)\n",
    "roc_curve=metrics.roc_curve(y_test[:,1],y_scores)\n",
    "plt.plot(roc_curve[0],roc_curve[1],label=\"Linear, C=1\")\n",
    "plt.xlabel('FPR')\n",
    "plt.ylabel('TPR')\n",
    "plt.title(\"ROC Curve\")\n",
    "plt.legend()"
   ]
  },
  {
   "cell_type": "code",
   "execution_count": 192,
   "metadata": {},
   "outputs": [
    {
     "data": {
      "text/plain": [
       "Text(0.5, 1.0, 'PR Curve')"
      ]
     },
     "execution_count": 192,
     "metadata": {},
     "output_type": "execute_result"
    },
    {
     "data": {
      "image/png": "[encoded data removed]",
      "text/plain": [
       "<Figure size 432x288 with 1 Axes>"
      ]
     },
     "metadata": {
      "needs_background": "light"
     },
     "output_type": "display_data"
    }
   ],
   "source": [
    "precision, recall, _ = precision_recall_curve(y_test[:,1], y_scores)\n",
    "#average_precision = average_precision_score(y_test[:,1], y_scores)\n",
    "plt.figure()\n",
    "plt.step(recall, precision, color='b', alpha=0.8,\n",
    "         where='post')\n",
    "plt.fill_between(recall, precision, alpha=0.2)\n",
    "\n",
    "plt.xlabel('Recall')\n",
    "plt.ylabel('Precision')\n",
    "plt.ylim([0.0, 1.05])\n",
    "plt.xlim([0.0, 1.0])\n",
    "plt.title(\"PR Curve\")"
   ]
  },
  {
   "cell_type": "code",
   "execution_count": 193,
   "metadata": {},
   "outputs": [
    {
     "name": "stdout",
     "output_type": "stream",
     "text": [
      "Accuracy: 0.9631544925662573\n",
      "F1 Score: 0.8290854572713644\n",
      "AUC: 0.9849852136022303\n"
     ]
    }
   ],
   "source": [
    "#Calculate the AUC score.\n",
    "print(\"Accuracy: \"+str(metrics.accuracy_score(y_test[:,1],y_pred)))\n",
    "print(\"F1 Score: \"+str(metrics.f1_score(y_test[:,1],y_pred)))\n",
    "print(\"AUC: \"+str(metrics.auc(roc_curve[0],roc_curve[1])))"
   ]
  }
 ],
 "metadata": {
  "kernelspec": {
   "display_name": "Python 3",
   "language": "python",
   "name": "python3"
  },
  "language_info": {
   "codemirror_mode": {
    "name": "ipython",
    "version": 3
   },
   "file_extension": ".py",
   "mimetype": "text/x-python",
   "name": "python",
   "nbconvert_exporter": "python",
   "pygments_lexer": "ipython3",
   "version": "3.7.1"
  }
 },
 "nbformat": 4,
 "nbformat_minor": 2
}
